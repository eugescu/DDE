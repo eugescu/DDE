{
 "cells": [
  {
   "cell_type": "code",
   "execution_count": 1,
   "metadata": {
    "collapsed": true
   },
   "outputs": [],
   "source": [
    "import qutip as qt\n",
    "import numpy as np"
   ]
  },
  {
   "cell_type": "code",
   "execution_count": 23,
   "metadata": {
    "collapsed": false
   },
   "outputs": [
    {
     "data": {
      "text/plain": [
       "(Quantum object: dims = [[2], [2]], shape = (2, 2), type = oper, isherm = False\n",
       " Qobj data =\n",
       " [[ 0.00000000+0.j          0.54030231+0.84147098j]\n",
       "  [ 0.00000000+0.j          0.00000000+0.j        ]],\n",
       " Quantum object: dims = [[2], [2]], shape = (2, 2), type = oper, isherm = False\n",
       " Qobj data =\n",
       " [[ 0.00000000+0.j          0.00000000+0.j        ]\n",
       "  [ 0.54030231-0.84147098j  0.00000000+0.j        ]])"
      ]
     },
     "execution_count": 23,
     "metadata": {},
     "output_type": "execute_result"
    }
   ],
   "source": [
    "w = 1\n",
    "U = (1j * w * qt.sigmap() * qt.sigmam()).expm()\n",
    "\n",
    "U * qt.sigmap() * U.conj(), U * qt.sigmam() * U.conj() \n"
   ]
  },
  {
   "cell_type": "code",
   "execution_count": 24,
   "metadata": {
    "collapsed": false
   },
   "outputs": [
    {
     "data": {
      "text/latex": [
       "Quantum object: dims = [[2], [2]], shape = (2, 2), type = oper, isherm = False\\begin{equation*}\\left(\\begin{array}{*{11}c}(0.540+0.841j) & 0.0\\\\0.0 & 1.0\\\\\\end{array}\\right)\\end{equation*}"
      ],
      "text/plain": [
       "Quantum object: dims = [[2], [2]], shape = (2, 2), type = oper, isherm = False\n",
       "Qobj data =\n",
       "[[ 0.54030231+0.84147098j  0.00000000+0.j        ]\n",
       " [ 0.00000000+0.j          1.00000000+0.j        ]]"
      ]
     },
     "execution_count": 24,
     "metadata": {},
     "output_type": "execute_result"
    }
   ],
   "source": [
    "U"
   ]
  },
  {
   "cell_type": "code",
   "execution_count": null,
   "metadata": {
    "collapsed": true
   },
   "outputs": [],
   "source": []
  },
  {
   "cell_type": "code",
   "execution_count": null,
   "metadata": {
    "collapsed": true
   },
   "outputs": [],
   "source": []
  }
 ],
 "metadata": {
  "kernelspec": {
   "display_name": "Python 3",
   "language": "python",
   "name": "python3"
  },
  "language_info": {
   "codemirror_mode": {
    "name": "ipython",
    "version": 3
   },
   "file_extension": ".py",
   "mimetype": "text/x-python",
   "name": "python",
   "nbconvert_exporter": "python",
   "pygments_lexer": "ipython3",
   "version": "3.6.1"
  }
 },
 "nbformat": 4,
 "nbformat_minor": 2
}
