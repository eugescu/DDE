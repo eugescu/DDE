{
 "cells": [
  {
   "cell_type": "markdown",
   "metadata": {
    "deletable": true,
    "editable": true
   },
   "source": [
    "#Dissipative Driven Entanglement Notebook\n",
    "Author: Eugene Dumitrescu\n",
    "\n",
    "In this notebook we (loosely) follow the prescription of Refs[1,2] to simulate the dynamical entanglement of QD systems coupled to a quantum environment. The approach taken is based on cavity QED, however our aim is to replace the cavity with a plasmonic reservoir.\n",
    "\n",
    "### References\n",
    "* [M. Otten, R. A. Shah, N. F. Scherer, M. Min, M. Pelton, and S. K. Gray, Phys. Rev. B 92, 125432 (2015)](http://journals.aps.org/prb/abstract/10.1103/PhysRevB.92.125432)\n",
    "* [Dissipation-driven entanglement between qubits mediated by plasmonic nanoantennas](http://journals.aps.org/prb/abstract/10.1103/PhysRevB.89.235413)\n"
   ]
  },
  {
   "cell_type": "code",
   "execution_count": 1,
   "metadata": {
    "collapsed": false,
    "deletable": true,
    "editable": true
   },
   "outputs": [],
   "source": [
    "%matplotlib inline\n",
    "from matplotlib import pyplot as plt\n",
    "import numpy as np\n",
    "from qutip import *\n",
    "import scipy.signal as ss\n",
    "\n",
    "# operators acting on the composite spin-boson Hilbert space\n",
    "def I(N,M):\n",
    "    \"\"\"Identity\"\"\"\n",
    "    oplist = [qeye(2)] * N\n",
    "    oplist.append(qeye(M))\n",
    "    return tensor(oplist)\n",
    "\n",
    "# spin operators\n",
    "def sx(i, N, M):\n",
    "    \"\"\"Pauli X on qb i\"\"\"\n",
    "    oplist = [qeye(2)] * N\n",
    "    oplist[i] = sigmax()\n",
    "    oplist.append(qeye(M))\n",
    "    return tensor(oplist)\n",
    "\n",
    "def sy(i, N, M):\n",
    "    \"\"\"Pauli Y on qb i\"\"\"\n",
    "    oplist = [qeye(2)] * N\n",
    "    oplist[i] = sigmay()\n",
    "    oplist.append(qeye(M))\n",
    "    return tensor(oplist)\n",
    "\n",
    "def sz(i, N, M):\n",
    "    \"\"\"Pauli Z on qb i\"\"\"\n",
    "    oplist = [qeye(2)] * N\n",
    "    oplist[i] = sigmaz()\n",
    "    oplist.append(qeye(M))\n",
    "    return tensor(oplist)\n",
    "\n",
    "def sm(i, N, M):\n",
    "    \"\"\"destroy quanta on qb i\"\"\"\n",
    "    oplist = [qeye(2)] * N\n",
    "    oplist[i] = sigmam()\n",
    "    oplist.append(qeye(M))\n",
    "    return tensor(oplist)\n",
    "\n",
    "def sp(i, N, M):\n",
    "    \"\"\"create quanta on qb i\"\"\"\n",
    "    oplist = [qeye(2)] * N\n",
    "    oplist[i] = sigmap()\n",
    "    oplist.append(qeye(M))\n",
    "    return tensor(oplist)\n",
    "\n",
    "def d(i,N,M):\n",
    "    \"\"\"dipole operator for ith spin\"\"\"\n",
    "    return sp(i, N, M) + sm(i, N, M)\n",
    "\n",
    "# plasmon / EM mode operators\n",
    "def a(N, M):\n",
    "    \"\"\"bosonic annihiliation operator\"\"\"\n",
    "    oplist = [qeye(2)] * N\n",
    "    oplist.append(destroy(M))\n",
    "    return tensor(oplist)\n",
    "\n",
    "def n_a(N,M):\n",
    "    \"\"\"bosonic number operator\"\"\"\n",
    "    return a(N,M).dag() * a(N,M)\n",
    "\n",
    "def d_a(N,M):\n",
    "    \"\"\"bosonic dipole operator\"\"\"\n",
    "    return a(N,M).dag() + a(N,M)\n",
    "\n",
    "# spin subspace projection operators \n",
    "def P_S(N,M):\n",
    "    \"\"\"Symmetric |s = 1, m_l = 0> subspace projector\"\"\"\n",
    "    return .25 * (I(N,M) - sz(0,N,M) * sz(1,N,M) + sx(0,N,M) * sx(1,N,M) + sy(0,N,M) * sy(1,N,M))\n",
    "\n",
    "def P_A(N,M):\n",
    "    \"\"\"Anti-symmetric |s = 0, m_l = 0> subspace projector\"\"\"\n",
    "    return .25 * (I(N,M) - sz(0,N,M) * sz(1,N,M) - sx(0,N,M) * sx(1,N,M) - sy(0,N,M) * sy(1,N,M))\n",
    "\n",
    "def P_pp(N,M):\n",
    "    \"\"\"|++> subspace projector \"\"\"\n",
    "    return np.prod([sp(i,N,M) * sm(i,N,M)  for i in range(N)])\n",
    "\n",
    "def P_mm(N,M):\n",
    "    \"\"\"|--> subspace projector \"\"\"\n",
    "    return np.prod([sm(i,N,M) * sp(i,N,M)  for i in range(N)])\n"
   ]
  },
  {
   "cell_type": "markdown",
   "metadata": {
    "deletable": true,
    "editable": true
   },
   "source": [
    "## Hamiltonian and Model\n",
    "\n",
    "Our model Hamiltonian for a N two levels systems (TLS) interacting with a bosonic reservoir is \n",
    "<center> $H = H_0 + H_{int} + H_{drv}$ </center>\n",
    "where the individual, interacting, and driving components of the Hamiltonian are given by \n",
    "<center>\n",
    "$\\displaystyle H_0 = - \\omega_0 \\sum_{i=1}^N \\sigma_z^{(i)} + \\omega_c a^\\dagger a$\n",
    "</center>\n",
    "<center>\n",
    "$\\displaystyle H_{int} = - \\sum_{i}^N g_i (\\sigma^{+}a + \\sigma^{-}a^\\dagger)$\n",
    "</center>\n",
    "<center>\n",
    "$\\displaystyle H_{drv} = - \\sum_{i}^N \\Omega_i \\hat{d}_i + \\Omega_a \\hat{d}_a$\n",
    "</center>\n",
    "We have used the EM field and TLS dipole operators $\\hat{d}_i = \\sigma^+_{(i)}+\\sigma^-_{(i)}$ and $\\hat{d}_a = a + a^\\dagger$  in the driving term and we have also applied the rotating wave approximation."
   ]
  },
  {
   "cell_type": "code",
   "execution_count": 2,
   "metadata": {
    "collapsed": false,
    "deletable": true,
    "editable": true
   },
   "outputs": [],
   "source": [
    "N = 2          # Number of spin 1/2's\n",
    "M = 3          # Number of cavity modes\n",
    "lam = 2        # constant that all other constants are given in terms of\n",
    "\n",
    "ws = [0.020, -0.020, 0.0]    # frequency/level spacing of each individual system\n",
    "gs = [0.1, 0.1]              # position dependent couplings\n",
    "ds = [0.1, 0.1, 0]           # driving strengths qb0,1, bosons \n",
    "\n",
    "def Ham(ws,gs,ds):\n",
    "    \"\"\" Define the Hamiltonian as a sum over:\n",
    "\n",
    "    Terms\n",
    "    -----\n",
    "    H_0: non-interacting systems\n",
    "    H_RWA: interaction between subsystems in the rotating wave approximation\n",
    "    H_DRV: driving terms in the co-rotating reference frame\n",
    "    \n",
    "    Returns\n",
    "    -------\n",
    "    \n",
    "    Hermitial Hamiltonian operator\n",
    "    H_0 - H_RWA - H_DRV\n",
    "    \"\"\"\n",
    "    H_0   = sum(ws[i] * sp(i,N,M) * sm(i,N,M) for i in range(N)) + ws[N] * n_a(N,M)\n",
    "    H_RWA = sum(gs[i] * (a(N,M) * sp(i,N,M) + a(N,M).dag() * sm(i,N,M)) for i in range(N))\n",
    "    H_DRV = sum(ds[i] * d(i,N,M) for i in range(N)) + ds[N] * d_a(N,M)\n",
    "    return H_0 - H_RWA - H_DRV\n",
    "\n",
    "# Lindblad dissipation parameters\n",
    "kap   = 1 * lam           # cavity relaxation rate\n",
    "gam   = 1 * kap / 1e8     # atom relaxation rate\n",
    "gdph  = 2 * kap / 1e8     # atom dephasing rate \n",
    "n_th  = 0.0               # thermal cavity occupation number \n",
    "\n",
    "def cops(kappa, gamma, deph, n_th):\n",
    "    \"\"\"\n",
    "    Define collapse operators for Lindblad master equation\n",
    "    \n",
    "    Parameters\n",
    "    ----------\n",
    "    kappa: cavity relaxation rate,  ~ 500 THz ~ 2 eV\n",
    "    gamma: emitter relaxation rate, ~ 10 MHz ~ 1mueV\n",
    "    gdph: emitter dephasing rate,   ~ same as relaxation rate\n",
    "    n_th: temperature for entire system, gives excitation rate\n",
    "\n",
    "    Returns\n",
    "    -------\n",
    "    c_ops: list of collapse operators\n",
    "    \"\"\"\n",
    "    c_ops = []\n",
    "    for i in range(2):\n",
    "        rate = np.sqrt(gamma * (1 + n_th))\n",
    "        if rate > 0.0:\n",
    "            c_ops.append(rate * sm(i,N,M))        # relaxation\n",
    "        rate = gamma * n_th\n",
    "        if rate > 0.0:\n",
    "            c_ops.append(rate * sm(i,N,M).dag())  # excitation\n",
    "        c_ops.append(np.sqrt(deph) * sz(i,N,M))   # dephasing  \n",
    "    rate = np.sqrt(kappa * (n_th + 1))\n",
    "    if rate > 0: \n",
    "        c_ops.append(rate * a(N,M))\n",
    "    rate = np.sqrt(kappa * (n_th))\n",
    "    if rate > 0: \n",
    "        c_ops.append(rate * a(N,M).dag())\n",
    "    return c_ops\n",
    "\n",
    "def g2(sta, ham, lin, tim):\n",
    "    \"\"\"\n",
    "    Parameters\n",
    "    ----------\n",
    "    sta: initial state to evolve according to \n",
    "    ham: Hamiltonian matrix and \n",
    "    lin: Limbladian operators for \n",
    "    tim: times \n",
    "    \n",
    "    Returns\n",
    "    -------\n",
    "    g^(2)(tau) second order correlation function\n",
    "    \"\"\"\n",
    "    e_ss_ops = [sp(i,N,M) * sm(i,N,M) for i in range(N)]        # qubit occupation number operators\n",
    "    \n",
    "    rho_ae = [sm(i,N,M) * sta * sp(i,N,M) for i in range(N)]    # track all possible emission events\n",
    "#   rho_ae = [r/r.tr() for r in rho_ae]                         # renormalize states\n",
    "    \n",
    "    # solve for <sp*sm> with respect to the post emission state\n",
    "    results = [mesolve(ham, r, taus, lin, e_ss_ops) for r in rho_ae]\n",
    "    \n",
    "    # steady state g2 denominator/normalization constants\n",
    "    denoms = [np.real((e * sta).tr()) for e in e_ss_ops]  \n",
    "    return sum(results[i].expect[j] / (denoms[i] * denoms[j]) / float(N**2) for i in range(N) for j in range(N))\n"
   ]
  },
  {
   "cell_type": "markdown",
   "metadata": {
    "deletable": true,
    "editable": true
   },
   "source": [
    "# Finite Delay characteristic anti-bunching timescales\n",
    "\n",
    "It is difficult to identify the full-width half maximum because the maximum may actually occur at relaxation timescales. That is, no local maxima from \"beading\" is seen before the onset of long time relaxation -- back to unity as required in the long time limit. This means that the driving frequency is masked by the relaxation frequency. However we can still try to extract this feature by Fourier forming the transient signal and extracting the effectiv Rabi driving frequency numerically.  \n",
    "\n",
    "We study the anti-bunching lifetime as a function of:\n",
    "1. Detuning\n",
    "2. Coupling strength\n",
    "3. Driving amplitude -- good lead. This seems to be effective\n",
    "\n"
   ]
  },
  {
   "cell_type": "markdown",
   "metadata": {
    "deletable": true,
    "editable": true
   },
   "source": [
    "### Frequency phase diagrams\n",
    "\n",
    "The dissipative generation of a robust enagned steady state is well established but, as discussed previously, a simple robust verification thereof is lacking. \n",
    "It has previously been hypothesized that the second order correlation function could be used as 'the smoking gun' signature for this entanglement. \n",
    "The $g^{(2)}(\\tau)$ details vary depending on the propasal. \n",
    "\n",
    "Standard DDE protocls generate the anti-symmetric bell state ($|T\\rangle = |01\\rangle + |10\\rangle$). \n",
    "Such a state must act as a single quantum emitter with an anti-bunching signature as discussed in (Garcia-Vidal_2011).\n",
    "While extremely promising, this feasability of detecting this effect far from established due to the fast timescales involved in plasmonic systems. \n",
    "\n",
    "Below, we explicitely consider this problem and show that the effective Rabi frequency driving the \n",
    "\n",
    "some experimental details of time scales are unknown.\n",
    "Our goal is to ascertain what physical constants lead to an easily observed anti-bunching effect."
   ]
  },
  {
   "cell_type": "markdown",
   "metadata": {
    "collapsed": true,
    "deletable": true,
    "editable": true
   },
   "source": [
    "# Complete Analysis\n",
    "of the following results:\n",
    "1. Concurrence\n",
    "2. Zero delay anti-bunching\n",
    "3. Rabi frequency (and therefore timescales)\n",
    "Goal is to put everything in the same place for clarity. \n",
    "\n",
    "The code panels below analyze:\n",
    "1. Detunings\n",
    "2. Coupligs\n",
    "3. Drivings ()"
   ]
  },
  {
   "cell_type": "code",
   "execution_count": 41,
   "metadata": {
    "collapsed": false,
    "deletable": true,
    "editable": true
   },
   "outputs": [
    {
     "name": "stderr",
     "output_type": "stream",
     "text": [
      "/opt/local/Library/Frameworks/Python.framework/Versions/3.6/lib/python3.6/site-packages/ipykernel/__main__.py:24: DeprecationWarning: object of type <class 'float'> cannot be safely interpreted as an integer.\n"
     ]
    },
    {
     "data": {
      "image/png": "[encoded data removed]",
      "text/plain": [
       "<matplotlib.figure.Figure at 0x110020438>"
      ]
     },
     "metadata": {},
     "output_type": "display_data"
    },
    {
     "data": {
      "image/png": "[encoded data removed]",
      "text/plain": [
       "<matplotlib.figure.Figure at 0x110fdf7b8>"
      ]
     },
     "metadata": {},
     "output_type": "display_data"
    },
    {
     "data": {
      "image/png": "[encoded data removed]",
      "text/plain": [
       "<matplotlib.figure.Figure at 0x110f5c3c8>"
      ]
     },
     "metadata": {},
     "output_type": "display_data"
    }
   ],
   "source": [
    "N = 2          # Number of spin 1/2's\n",
    "M = 3          # Number of cavity modes\n",
    "\n",
    "ws = [0.02, -0.02, 0.0]      # frequency/level spacing of each individual system\n",
    "gs = [0.01, 0.01]              # position dependent couplings\n",
    "ds = [0.01, 0.01, 0]           # driving strengths qb0,1, bosons \n",
    "\n",
    "# Lindblad collapse operators defined way above\n",
    "cps = cops(kap, gam, gdph, n_th)\n",
    "\n",
    "# detuning range\n",
    "N_w = 101\n",
    "w_r = 0.2\n",
    "x_range = np.linspace(-w_r,w_r,N_w)\n",
    "y_range = np.linspace(-w_r,w_r,N_w)\n",
    "\n",
    "rabi0_fr = np.zeros((N_w,N_w))\n",
    "rabi1_fr = np.zeros((N_w,N_w))\n",
    "rabi_eff_fr = np.zeros((N_w,N_w))\n",
    "\n",
    "# discretized g2 time domain\n",
    "steps = 2e3\n",
    "tmax = 5e3\n",
    "taus = np.linspace(0, tmax, steps)\n",
    "\n",
    "# make 2D 'phase diagram'\n",
    "for x_i in range(N_w):\n",
    "    for y_i in range(N_w):\n",
    "        \n",
    "        gs[0] =  x_range[x_i]\n",
    "        gs[1] = y_range[::-1][y_i]\n",
    "        \n",
    "        beta0 = (ws[0] + 1j * kap)\n",
    "        beta1 = (ws[1] + 1j * kap)\n",
    "\n",
    "        del0_eff = (ws[0] + gs[0] * gs[1]) / beta\n",
    "        del1_eff = (ws[1] + gs[0] * gs[1]) / beta\n",
    "\n",
    "        eta0_eff = ds[0] + gs[0] / beta\n",
    "        eta1_eff = ds[1] + gs[1] / beta\n",
    "        \n",
    "        rabi0_fr[x_i, y_i] = np.sqrt(np.abs(del0_eff)**2 + np.abs(eta0_eff)**2)\n",
    "        rabi1_fr[x_i, y_i] = np.sqrt(np.abs(del1_eff)**2 + np.abs(eta1_eff)**2)      \n",
    "        \n",
    "        rabi_eff_fr[x_i, y_i] = np.sqrt(np.abs(del0_eff)**2 + np.abs(eta0_eff)**2) + np.sqrt(np.abs(del1_eff)**2 + np.abs(eta1_eff)**2)      \n",
    "\n",
    "minx = min(x_range)\n",
    "maxx = max(x_range)\n",
    "miny = min(y_range)\n",
    "maxy = max(y_range)\n",
    "\n",
    "fs = str(20)\n",
    "\n",
    "fig, ax = plt.subplots(1, figsize = (5,5))\n",
    "im00 = ax.imshow(rabi0_fr, cmap  = 'hot', interpolation='nearest', extent=[minx, maxx, miny, maxy])\n",
    "ax.set_title('$C_{SS}$', fontsize = fs)\n",
    "ax.set_xlabel('$g_0$', fontsize = fs)\n",
    "ax.set_ylabel('$g_1$', fontsize = fs)\n",
    "fig.colorbar(im00, ax = ax, fraction = 0.045)\n",
    "plt.tight_layout()\n",
    "\n",
    "fig, ax = plt.subplots(1, figsize = (5,5))\n",
    "im00 = ax.imshow(rabi1_fr, cmap  = 'hot', interpolation='nearest', extent=[minx, maxx, miny, maxy])\n",
    "ax.set_title('$C_{SS}$', fontsize = fs)\n",
    "ax.set_xlabel('$g_0$', fontsize = fs)\n",
    "ax.set_ylabel('$g_1$', fontsize = fs)\n",
    "fig.colorbar(im00, ax = ax, fraction = 0.045)\n",
    "plt.tight_layout()\n",
    "\n",
    "fig, ax = plt.subplots(1, figsize = (5,5))\n",
    "im00 = ax.imshow(rabi_eff_fr, cmap  = 'hot', interpolation='nearest', extent=[minx, maxx, miny, maxy])\n",
    "ax.set_title('$C_{SS}$', fontsize = fs)\n",
    "ax.set_xlabel('$g_0$', fontsize = fs)\n",
    "ax.set_ylabel('$g_1$', fontsize = fs)\n",
    "fig.colorbar(im00, ax = ax, fraction = 0.045)\n",
    "plt.tight_layout()"
   ]
  },
  {
   "cell_type": "code",
   "execution_count": 25,
   "metadata": {
    "collapsed": false,
    "deletable": true,
    "editable": true
   },
   "outputs": [
    {
     "data": {
      "text/plain": [
       "array([[ 0.12252538,  0.12252538,  0.12252538, ...,  0.12252538,\n",
       "         0.12252538,  0.12252538],\n",
       "       [ 0.12163167,  0.12163167,  0.12163167, ...,  0.12163167,\n",
       "         0.12163167,  0.12163167],\n",
       "       [ 0.12078298,  0.12078298,  0.12078298, ...,  0.12078298,\n",
       "         0.12078298,  0.12078298],\n",
       "       ..., \n",
       "       [ 0.1244439 ,  0.1244439 ,  0.1244439 , ...,  0.1244439 ,\n",
       "         0.1244439 ,  0.1244439 ],\n",
       "       [ 0.12546671,  0.12546671,  0.12546671, ...,  0.12546671,\n",
       "         0.12546671,  0.12546671],\n",
       "       [ 0.12653053,  0.12653053,  0.12653053, ...,  0.12653053,\n",
       "         0.12653053,  0.12653053]])"
      ]
     },
     "execution_count": 25,
     "metadata": {},
     "output_type": "execute_result"
    }
   ],
   "source": [
    "rabi0_fr"
   ]
  },
  {
   "cell_type": "code",
   "execution_count": 5,
   "metadata": {
    "collapsed": false
   },
   "outputs": [
    {
     "data": {
      "text/plain": [
       "(0.095012468827930185-0.099750623441396513j)"
      ]
     },
     "execution_count": 5,
     "metadata": {},
     "output_type": "execute_result"
    }
   ],
   "source": [
    "eta_eff\n"
   ]
  },
  {
   "cell_type": "code",
   "execution_count": 8,
   "metadata": {
    "collapsed": false
   },
   "outputs": [
    {
     "data": {
      "text/plain": [
       "(-0.0020098755604753705+0.00020149128425818249j)"
      ]
     },
     "execution_count": 8,
     "metadata": {},
     "output_type": "execute_result"
    }
   ],
   "source": [
    "del_eff**2"
   ]
  },
  {
   "cell_type": "code",
   "execution_count": null,
   "metadata": {
    "collapsed": true
   },
   "outputs": [],
   "source": []
  }
 ],
 "metadata": {
  "kernelspec": {
   "display_name": "Python 3",
   "language": "python",
   "name": "python3"
  },
  "language_info": {
   "codemirror_mode": {
    "name": "ipython",
    "version": 3
   },
   "file_extension": ".py",
   "mimetype": "text/x-python",
   "name": "python",
   "nbconvert_exporter": "python",
   "pygments_lexer": "ipython3",
   "version": "3.6.1"
  }
 },
 "nbformat": 4,
 "nbformat_minor": 0
}
