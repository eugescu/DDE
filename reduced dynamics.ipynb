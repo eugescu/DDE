{
 "cells": [
  {
   "cell_type": "markdown",
   "metadata": {
    "deletable": true,
    "editable": true
   },
   "source": [
    "#Dissipative Driven Entanglement Notebook\n",
    "Author: Eugene Dumitrescu\n",
    "\n",
    "In this notebook we (loosely) follow the prescription of Refs[1,2] to simulate the dynamical entanglement of QD systems coupled to a quantum environment. The approach taken is based on cavity QED, however our aim is to replace the cavity with a plasmonic reservoir.\n",
    "\n",
    "### References\n",
    "* [M. Otten, R. A. Shah, N. F. Scherer, M. Min, M. Pelton, and S. K. Gray, Phys. Rev. B 92, 125432 (2015)](http://journals.aps.org/prb/abstract/10.1103/PhysRevB.92.125432)\n",
    "* [Dissipation-driven entanglement between qubits mediated by plasmonic nanoantennas](http://journals.aps.org/prb/abstract/10.1103/PhysRevB.89.235413)\n"
   ]
  },
  {
   "cell_type": "code",
   "execution_count": 23,
   "metadata": {
    "collapsed": false,
    "deletable": true,
    "editable": true
   },
   "outputs": [],
   "source": [
    "%matplotlib inline\n",
    "from matplotlib import pyplot as plt\n",
    "import numpy as np\n",
    "from qutip import *\n",
    "import scipy.signal as ss\n",
    "\n",
    "# operators acting on the composite spin-boson Hilbert space\n",
    "def I(N,M):\n",
    "    \"\"\"Identity\"\"\"\n",
    "    oplist = [qeye(2)] * N\n",
    "    oplist.append(qeye(M))\n",
    "    return tensor(oplist)\n",
    "\n",
    "# spin operators\n",
    "def sx(i, N, M):\n",
    "    \"\"\"Pauli X on qb i\"\"\"\n",
    "    oplist = [qeye(2)] * N\n",
    "    oplist[i] = sigmax()\n",
    "    oplist.append(qeye(M))\n",
    "    return tensor(oplist)\n",
    "\n",
    "def sy(i, N, M):\n",
    "    \"\"\"Pauli Y on qb i\"\"\"\n",
    "    oplist = [qeye(2)] * N\n",
    "    oplist[i] = sigmay()\n",
    "    oplist.append(qeye(M))\n",
    "    return tensor(oplist)\n",
    "\n",
    "def sz(i, N, M):\n",
    "    \"\"\"Pauli Z on qb i\"\"\"\n",
    "    oplist = [qeye(2)] * N\n",
    "    oplist[i] = sigmaz()\n",
    "    oplist.append(qeye(M))\n",
    "    return tensor(oplist)\n",
    "\n",
    "def sm(i, N, M):\n",
    "    \"\"\"destroy quanta on qb i\"\"\"\n",
    "    oplist = [qeye(2)] * N\n",
    "    oplist[i] = sigmam()\n",
    "    oplist.append(qeye(M))\n",
    "    return tensor(oplist)\n",
    "\n",
    "def sp(i, N, M):\n",
    "    \"\"\"create quanta on qb i\"\"\"\n",
    "    oplist = [qeye(2)] * N\n",
    "    oplist[i] = sigmap()\n",
    "    oplist.append(qeye(M))\n",
    "    return tensor(oplist)\n",
    "\n",
    "def d(i,N,M):\n",
    "    \"\"\"dipole operator for ith spin\"\"\"\n",
    "    return sp(i, N, M) + sm(i, N, M)\n",
    "\n",
    "# plasmon / EM mode operators\n",
    "def a(N, M):\n",
    "    \"\"\"bosonic annihiliation operator\"\"\"\n",
    "    oplist = [qeye(2)] * N\n",
    "    oplist.append(destroy(M))\n",
    "    return tensor(oplist)\n",
    "\n",
    "def n_a(N,M):\n",
    "    \"\"\"bosonic number operator\"\"\"\n",
    "    return a(N,M).dag() * a(N,M)\n",
    "\n",
    "def d_a(N,M):\n",
    "    \"\"\"bosonic dipole operator\"\"\"\n",
    "    return a(N,M).dag() + a(N,M)\n",
    "\n",
    "# spin subspace projection operators \n",
    "def P_S(N,M):\n",
    "    \"\"\"Symmetric |s = 1, m_l = 0> subspace projector\"\"\"\n",
    "    return .25 * (I(N,M) - sz(0,N,M) * sz(1,N,M) + sx(0,N,M) * sx(1,N,M) + sy(0,N,M) * sy(1,N,M))\n",
    "\n",
    "def P_A(N,M):\n",
    "    \"\"\"Anti-symmetric |s = 0, m_l = 0> subspace projector\"\"\"\n",
    "    return .25 * (I(N,M) - sz(0,N,M) * sz(1,N,M) - sx(0,N,M) * sx(1,N,M) - sy(0,N,M) * sy(1,N,M))\n",
    "\n",
    "def P_pp(N,M):\n",
    "    \"\"\"|++> subspace projector \"\"\"\n",
    "    return np.prod([sp(i,N,M) * sm(i,N,M)  for i in range(N)])\n",
    "\n",
    "def P_mm(N,M):\n",
    "    \"\"\"|--> subspace projector \"\"\"\n",
    "    return np.prod([sm(i,N,M) * sp(i,N,M)  for i in range(N)])\n"
   ]
  },
  {
   "cell_type": "markdown",
   "metadata": {
    "deletable": true,
    "editable": true
   },
   "source": [
    "## Hamiltonian and Model\n",
    "\n",
    "Our model Hamiltonian for a N two levels systems (TLS) interacting with a bosonic reservoir is \n",
    "<center> $H = H_0 + H_{int} + H_{drv}$ </center>\n",
    "where the individual, interacting, and driving components of the Hamiltonian are given by \n",
    "<center>\n",
    "$\\displaystyle H_0 = - \\omega_0 \\sum_{i=1}^N \\sigma_z^{(i)} + \\omega_c a^\\dagger a$\n",
    "</center>\n",
    "<center>\n",
    "$\\displaystyle H_{int} = - \\sum_{i}^N g_i (\\sigma^{+}a + \\sigma^{-}a^\\dagger)$\n",
    "</center>\n",
    "<center>\n",
    "$\\displaystyle H_{drv} = - \\sum_{i}^N \\Omega_i \\hat{d}_i + \\Omega_a \\hat{d}_a$\n",
    "</center>\n",
    "We have used the EM field and TLS dipole operators $\\hat{d}_i = \\sigma^+_{(i)}+\\sigma^-_{(i)}$ and $\\hat{d}_a = a + a^\\dagger$  in the driving term and we have also applied the rotating wave approximation."
   ]
  },
  {
   "cell_type": "code",
   "execution_count": 2,
   "metadata": {
    "collapsed": false,
    "deletable": true,
    "editable": true
   },
   "outputs": [],
   "source": [
    "N = 2          # Number of spin 1/2's\n",
    "M = 2          # Number of cavity modes\n",
    "lam = 2        # constant that all other constants are given in terms of\n",
    "\n",
    "ws = [0.020, -0.020, 0.0]    # frequency/level spacing of each individual system\n",
    "gs = [0.1, 0.1]              # position dependent couplings\n",
    "ds = [0.1, 0.1, 0]           # driving strengths qb0,1, bosons \n",
    "\n",
    "def Ham(N,M,oms,coups,drvgs):\n",
    "    \"\"\" Define the Hamiltonian as a sum over:\n",
    "\n",
    "    Terms\n",
    "    -----\n",
    "    oms: \n",
    "    coups:\n",
    "    drvgs: \n",
    "    \n",
    "    Returns\n",
    "    -------\n",
    "    H_0: non-interacting systems\n",
    "    H_RWA: interaction between subsystems in the rotating wave approximation\n",
    "    H_DRV: driving terms in the co-rotating reference frame\n",
    "\n",
    "    Hermitial Hamiltonian operator\n",
    "    H_0 - H_RWA - H_DRV\n",
    "    \"\"\"\n",
    "    H_0   = sum(oms[i] * sp(i,N,M) * sm(i,N,M) for i in range(N)) + oms[N] * n_a(N,M)\n",
    "    H_RWA = sum(coups[i] * (a(N,M) * sp(i,N,M) + a(N,M).dag() * sm(i,N,M)) for i in range(N))\n",
    "    H_DRV = sum(drvgs[i] * d(i,N,M) for i in range(N)) + drvgs[N] * d_a(N,M)\n",
    "    return H_0 - H_RWA - H_DRV\n",
    "\n",
    "# Lindblad dissipation parameters\n",
    "kap   = 1 * lam           # cavity relaxation rate\n",
    "gam   = 1 * kap / 1e8     # atom relaxation rate\n",
    "gdph  = 2 * kap / 1e8     # atom dephasing rate \n",
    "n_th  = 0.0               # thermal cavity occupation number \n",
    "\n",
    "def cops(kappa, gamma, deph, n_th):\n",
    "    \"\"\"\n",
    "    Define collapse operators for Lindblad master equation\n",
    "    \n",
    "    Parameters\n",
    "    ----------\n",
    "    kappa: cavity relaxation rate,  ~ 500 THz ~ 2 eV\n",
    "    gamma: emitter relaxation rate, ~ 10 MHz ~ 1mueV\n",
    "    gdph: emitter dephasing rate,   ~ same as relaxation rate\n",
    "    n_th: temperature for entire system, gives excitation rate\n",
    "\n",
    "    Returns\n",
    "    -------\n",
    "    c_ops: list of collapse operators\n",
    "    \"\"\"\n",
    "    c_ops = []\n",
    "    for i in range(2):\n",
    "        rate = np.sqrt(gamma * (1 + n_th))\n",
    "        if rate > 0.0:\n",
    "            c_ops.append(rate * sm(i,N,M))        # relaxation\n",
    "        rate = gamma * n_th\n",
    "        if rate > 0.0:\n",
    "            c_ops.append(rate * sm(i,N,M).dag())  # excitation\n",
    "        c_ops.append(np.sqrt(deph) * sz(i,N,M))   # dephasing  \n",
    "    rate = np.sqrt(kappa * (n_th + 1))\n",
    "    if rate > 0: \n",
    "        c_ops.append(rate * a(N,M))\n",
    "    rate = np.sqrt(kappa * (n_th))\n",
    "    if rate > 0: \n",
    "        c_ops.append(rate * a(N,M).dag())\n",
    "    return c_ops\n",
    "\n",
    "def g2(sta, ham, lin, tim):\n",
    "    \"\"\"\n",
    "    Parameters\n",
    "    ----------\n",
    "    sta: initial state to evolve according to \n",
    "    ham: Hamiltonian matrix and \n",
    "    lin: Limbladian operators for \n",
    "    tim: times \n",
    "    \n",
    "    Returns\n",
    "    -------\n",
    "    g^(2)(tau) second order correlation function\n",
    "    \"\"\"\n",
    "    e_ss_ops = [sp(i,N,M) * sm(i,N,M) for i in range(N)]        # qubit occupation number operators\n",
    "    \n",
    "    rho_ae = [sm(i,N,M) * sta * sp(i,N,M) for i in range(N)]    # track all possible emission events\n",
    "#   rho_ae = [r/r.tr() for r in rho_ae]                         # renormalize states\n",
    "    \n",
    "    # solve for <sp*sm> with respect to the post emission state\n",
    "    results = [mesolve(ham, r, taus, lin, e_ss_ops) for r in rho_ae]\n",
    "    \n",
    "    # steady state g2 denominator/normalization constants\n",
    "    denoms = [np.real((e * sta).tr()) for e in e_ss_ops]  \n",
    "    return sum(results[i].expect[j] / (denoms[i] * denoms[j]) / float(N**2) for i in range(N) for j in range(N))\n",
    "\n",
    "\n",
    "def freq(pwrspec, o = 1):\n",
    "    \"\"\"\n",
    "    Extract the primary non-decay frequency from the \n",
    "    Parameters\n",
    "    ----------\n",
    "    pwrspec: g2 power spectrum\n",
    "    order: number of points frequencym must be above to count as local maxima    \n",
    "    Returns\n",
    "    -------\n",
    "    two qubit 'Rabi' frequency -- lowest one which emerges.... should probably be the biggest?\n",
    "    \"\"\"\n",
    "    \n",
    "    fs = ss.argrelmax(pwrspec[0:int(steps/2)], order = o) # candidate characteristic frequencies\n",
    "    M = [pwrspec[f] for f in fs][0]                       # power spectrum magnitude of frequencies \n",
    "    return fs[0][np.ndarray.argmax(M)]"
   ]
  },
  {
   "cell_type": "code",
   "execution_count": 24,
   "metadata": {
    "collapsed": false
   },
   "outputs": [
    {
     "data": {
      "text/plain": [
       "0.0001"
      ]
     },
     "execution_count": 24,
     "metadata": {},
     "output_type": "execute_result"
    }
   ],
   "source": [
    "[0.2, -0.2, .0001][2]"
   ]
  },
  {
   "cell_type": "code",
   "execution_count": 34,
   "metadata": {
    "collapsed": false,
    "deletable": true,
    "editable": true
   },
   "outputs": [
    {
     "name": "stdout",
     "output_type": "stream",
     "text": [
      "Quantum object: dims = [[2, 2], [2, 2]], shape = [4, 4], type = oper, isherm = True\n",
      "Qobj data =\n",
      "[[-0.003  0.     0.     0.   ]\n",
      " [ 0.     0.597  0.     0.   ]\n",
      " [ 0.     0.    -0.603  0.   ]\n",
      " [ 0.     0.     0.    -0.003]]\n",
      "Quantum object: dims = [[2, 2], [2, 2]], shape = [4, 4], type = oper, isherm = True\n",
      "Qobj data =\n",
      "[[-0.003  0.     0.     0.   ]\n",
      " [ 0.     0.597  0.     0.   ]\n",
      " [ 0.     0.    -0.603  0.   ]\n",
      " [ 0.     0.     0.    -0.003]]\n"
     ]
    }
   ],
   "source": [
    "print(ptrace(Ham(2,3,[0.2, -0.2, -.001],[-2000, 2000],[0.0, 0.0, 0]),[0,1]))\n",
    "\n",
    "print(ptrace(Ham(2,3,[0.2, -0.2, -.001],[0, 0],[0.0, 0.0, 0]),[0,1]))\n",
    "\n",
    "# ws = [0.020, 0.020, 0.0]     # frequency/level spacing of each individual system\n",
    "# gs = [0.1, 0.1]              # position dependent couplings\n",
    "# ds = [0.1, 0.1, 0]           # driving strengths qb0,1, bosons \n",
    "# print(ptrace(Ham(ws,gs,ds),[0,1]))"
   ]
  },
  {
   "cell_type": "code",
   "execution_count": 32,
   "metadata": {
    "collapsed": false
   },
   "outputs": [
    {
     "data": {
      "text/latex": [
       "Quantum object: dims = [[2, 2, 3], [2, 2, 3]], shape = [12, 12], type = oper, isherm = True\\begin{equation*}\\left(\\begin{array}{*{11}c}0.0 & 0.0 & 0.0 & 0.0 & -5.0 & \\cdots & -5.0 & 0.0 & 0.0 & 0.0 & 0.0\\\\0.0 & 1.0 & 0.0 & 0.0 & 0.0 & \\cdots & 0.0 & -7.071 & 0.0 & 0.0 & 0.0\\\\0.0 & 0.0 & 2.0 & 0.0 & 0.0 & \\cdots & 0.0 & 0.0 & 0.0 & 0.0 & 0.0\\\\0.0 & 0.0 & 0.0 & 0.200 & 0.0 & \\cdots & 0.0 & 0.0 & 0.0 & -5.0 & 0.0\\\\-5.0 & 0.0 & 0.0 & 0.0 & 1.200 & \\cdots & 0.0 & 0.0 & 0.0 & 0.0 & -7.071\\\\\\vdots & \\vdots & \\vdots & \\vdots & \\vdots & \\ddots & \\vdots & \\vdots & \\vdots & \\vdots & \\vdots\\\\-5.0 & 0.0 & 0.0 & 0.0 & 0.0 & \\cdots & 0.800 & 0.0 & 0.0 & 0.0 & -7.071\\\\0.0 & -7.071 & 0.0 & 0.0 & 0.0 & \\cdots & 0.0 & 1.800 & 0.0 & 0.0 & 0.0\\\\0.0 & 0.0 & 0.0 & 0.0 & 0.0 & \\cdots & 0.0 & 0.0 & 0.0 & 0.0 & 0.0\\\\0.0 & 0.0 & 0.0 & -5.0 & 0.0 & \\cdots & 0.0 & 0.0 & 0.0 & 1.0 & 0.0\\\\0.0 & 0.0 & 0.0 & 0.0 & -7.071 & \\cdots & -7.071 & 0.0 & 0.0 & 0.0 & 2.0\\\\\\end{array}\\right)\\end{equation*}"
      ],
      "text/plain": [
       "Quantum object: dims = [[2, 2, 3], [2, 2, 3]], shape = [12, 12], type = oper, isherm = True\n",
       "Qobj data =\n",
       "[[ 0.          0.          0.          0.         -5.          0.          0.\n",
       "  -5.          0.          0.          0.          0.        ]\n",
       " [ 0.          1.          0.          0.          0.         -7.07106781\n",
       "   0.          0.         -7.07106781  0.          0.          0.        ]\n",
       " [ 0.          0.          2.          0.          0.          0.          0.\n",
       "   0.          0.          0.          0.          0.        ]\n",
       " [ 0.          0.          0.          0.2         0.          0.          0.\n",
       "   0.          0.          0.         -5.          0.        ]\n",
       " [-5.          0.          0.          0.          1.2         0.          0.\n",
       "   0.          0.          0.          0.         -7.07106781]\n",
       " [ 0.         -7.07106781  0.          0.          0.          2.2         0.\n",
       "   0.          0.          0.          0.          0.        ]\n",
       " [ 0.          0.          0.          0.          0.          0.         -0.2\n",
       "   0.          0.          0.         -5.          0.        ]\n",
       " [-5.          0.          0.          0.          0.          0.          0.\n",
       "   0.8         0.          0.          0.         -7.07106781]\n",
       " [ 0.         -7.07106781  0.          0.          0.          0.          0.\n",
       "   0.          1.8         0.          0.          0.        ]\n",
       " [ 0.          0.          0.          0.          0.          0.          0.\n",
       "   0.          0.          0.          0.          0.        ]\n",
       " [ 0.          0.          0.         -5.          0.          0.         -5.\n",
       "   0.          0.          0.          1.          0.        ]\n",
       " [ 0.          0.          0.          0.         -7.07106781  0.          0.\n",
       "  -7.07106781  0.          0.          0.          2.        ]]"
      ]
     },
     "execution_count": 32,
     "metadata": {},
     "output_type": "execute_result"
    }
   ],
   "source": [
    "Ham(2,3,[0.2, -0.2, 1],[5, 5],[0.0, 0.0, 0])"
   ]
  },
  {
   "cell_type": "code",
   "execution_count": 35,
   "metadata": {
    "collapsed": false
   },
   "outputs": [
    {
     "data": {
      "text/latex": [
       "Quantum object: dims = [[2, 2, 3], [2, 2, 3]], shape = [12, 12], type = oper, isherm = True\\begin{equation*}\\left(\\begin{array}{*{11}c}0.0 & 0.0 & 0.0 & 0.0 & -2.0 & \\cdots & -2.0 & 0.0 & 0.0 & 0.0 & 0.0\\\\0.0 & 1.0 & 0.0 & 0.0 & 0.0 & \\cdots & 0.0 & -2.828 & 0.0 & 0.0 & 0.0\\\\0.0 & 0.0 & 2.0 & 0.0 & 0.0 & \\cdots & 0.0 & 0.0 & 0.0 & 0.0 & 0.0\\\\0.0 & 0.0 & 0.0 & 0.200 & 0.0 & \\cdots & 0.0 & 0.0 & 0.0 & -2.0 & 0.0\\\\-2.0 & 0.0 & 0.0 & 0.0 & 1.200 & \\cdots & 0.0 & 0.0 & 0.0 & 0.0 & -2.828\\\\\\vdots & \\vdots & \\vdots & \\vdots & \\vdots & \\ddots & \\vdots & \\vdots & \\vdots & \\vdots & \\vdots\\\\-2.0 & 0.0 & 0.0 & 0.0 & 0.0 & \\cdots & 0.800 & 0.0 & 0.0 & 0.0 & -2.828\\\\0.0 & -2.828 & 0.0 & 0.0 & 0.0 & \\cdots & 0.0 & 1.800 & 0.0 & 0.0 & 0.0\\\\0.0 & 0.0 & 0.0 & 0.0 & 0.0 & \\cdots & 0.0 & 0.0 & 0.0 & 0.0 & 0.0\\\\0.0 & 0.0 & 0.0 & -2.0 & 0.0 & \\cdots & 0.0 & 0.0 & 0.0 & 1.0 & 0.0\\\\0.0 & 0.0 & 0.0 & 0.0 & -2.828 & \\cdots & -2.828 & 0.0 & 0.0 & 0.0 & 2.0\\\\\\end{array}\\right)\\end{equation*}"
      ],
      "text/plain": [
       "Quantum object: dims = [[2, 2, 3], [2, 2, 3]], shape = [12, 12], type = oper, isherm = True\n",
       "Qobj data =\n",
       "[[ 0.          0.          0.          0.         -2.          0.          0.\n",
       "  -2.          0.          0.          0.          0.        ]\n",
       " [ 0.          1.          0.          0.          0.         -2.82842712\n",
       "   0.          0.         -2.82842712  0.          0.          0.        ]\n",
       " [ 0.          0.          2.          0.          0.          0.          0.\n",
       "   0.          0.          0.          0.          0.        ]\n",
       " [ 0.          0.          0.          0.2         0.          0.          0.\n",
       "   0.          0.          0.         -2.          0.        ]\n",
       " [-2.          0.          0.          0.          1.2         0.          0.\n",
       "   0.          0.          0.          0.         -2.82842712]\n",
       " [ 0.         -2.82842712  0.          0.          0.          2.2         0.\n",
       "   0.          0.          0.          0.          0.        ]\n",
       " [ 0.          0.          0.          0.          0.          0.         -0.2\n",
       "   0.          0.          0.         -2.          0.        ]\n",
       " [-2.          0.          0.          0.          0.          0.          0.\n",
       "   0.8         0.          0.          0.         -2.82842712]\n",
       " [ 0.         -2.82842712  0.          0.          0.          0.          0.\n",
       "   0.          1.8         0.          0.          0.        ]\n",
       " [ 0.          0.          0.          0.          0.          0.          0.\n",
       "   0.          0.          0.          0.          0.        ]\n",
       " [ 0.          0.          0.         -2.          0.          0.         -2.\n",
       "   0.          0.          0.          1.          0.        ]\n",
       " [ 0.          0.          0.          0.         -2.82842712  0.          0.\n",
       "  -2.82842712  0.          0.          0.          2.        ]]"
      ]
     },
     "execution_count": 35,
     "metadata": {},
     "output_type": "execute_result"
    }
   ],
   "source": [
    "Ham(2,3,[0.2, -0.2, 1],[2, 2],[0.0, 0.0, 0])"
   ]
  },
  {
   "cell_type": "code",
   "execution_count": 9,
   "metadata": {
    "collapsed": false
   },
   "outputs": [
    {
     "data": {
      "text/latex": [
       "Quantum object: dims = [[2, 2, 2], [2, 2, 2]], shape = [8, 8], type = oper, isherm = True\\begin{equation*}\\left(\\begin{array}{*{11}c}0.0 & 0.0 & 0.0 & -2.0 & 0.0 & -2.0 & 0.0 & 0.0\\\\0.0 & 0.0 & 0.0 & 0.0 & 0.0 & 0.0 & 0.0 & 0.0\\\\0.0 & 0.0 & 0.200 & 0.0 & 0.0 & 0.0 & 0.0 & -2.0\\\\-2.0 & 0.0 & 0.0 & 0.200 & 0.0 & 0.0 & 0.0 & 0.0\\\\0.0 & 0.0 & 0.0 & 0.0 & -0.200 & 0.0 & 0.0 & -2.0\\\\-2.0 & 0.0 & 0.0 & 0.0 & 0.0 & -0.200 & 0.0 & 0.0\\\\0.0 & 0.0 & 0.0 & 0.0 & 0.0 & 0.0 & 0.0 & 0.0\\\\0.0 & 0.0 & -2.0 & 0.0 & -2.0 & 0.0 & 0.0 & 0.0\\\\\\end{array}\\right)\\end{equation*}"
      ],
      "text/plain": [
       "Quantum object: dims = [[2, 2, 2], [2, 2, 2]], shape = [8, 8], type = oper, isherm = True\n",
       "Qobj data =\n",
       "[[ 0.   0.   0.  -2.   0.  -2.   0.   0. ]\n",
       " [ 0.   0.   0.   0.   0.   0.   0.   0. ]\n",
       " [ 0.   0.   0.2  0.   0.   0.   0.  -2. ]\n",
       " [-2.   0.   0.   0.2  0.   0.   0.   0. ]\n",
       " [ 0.   0.   0.   0.  -0.2  0.   0.  -2. ]\n",
       " [-2.   0.   0.   0.   0.  -0.2  0.   0. ]\n",
       " [ 0.   0.   0.   0.   0.   0.   0.   0. ]\n",
       " [ 0.   0.  -2.   0.  -2.   0.   0.   0. ]]"
      ]
     },
     "execution_count": 9,
     "metadata": {},
     "output_type": "execute_result"
    }
   ],
   "source": [
    "Ham(2,2,[0.2, -0.2, 0],[2, 2],[0.0, 0.0, 0])"
   ]
  },
  {
   "cell_type": "code",
   "execution_count": null,
   "metadata": {
    "collapsed": true
   },
   "outputs": [],
   "source": []
  }
 ],
 "metadata": {
  "kernelspec": {
   "display_name": "Python 3",
   "language": "python",
   "name": "python3"
  },
  "language_info": {
   "codemirror_mode": {
    "name": "ipython",
    "version": 3
   },
   "file_extension": ".py",
   "mimetype": "text/x-python",
   "name": "python",
   "nbconvert_exporter": "python",
   "pygments_lexer": "ipython3",
   "version": "3.5.2"
  }
 },
 "nbformat": 4,
 "nbformat_minor": 0
}
