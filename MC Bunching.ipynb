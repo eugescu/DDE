{
 "cells": [
  {
   "cell_type": "code",
   "execution_count": 5,
   "metadata": {
    "collapsed": true
   },
   "outputs": [],
   "source": [
    "import itertools\n",
    "import numpy as np\n",
    "import math\n",
    "from matplotlib import pyplot as plt\n",
    "import random"
   ]
  },
  {
   "cell_type": "markdown",
   "metadata": {},
   "source": [
    "# Physical constants for experiment"
   ]
  },
  {
   "cell_type": "code",
   "execution_count": 2,
   "metadata": {},
   "outputs": [
    {
     "name": "stdout",
     "output_type": "stream",
     "text": [
      "(non)relativistic electron velocity(/c) is 0.446593756539 (0.485071250073)\n",
      "energy lost to plasmon around 0.27784584980237126 eV\n",
      "current for 1e- per 1 nanosecond is 0.1602 nA\n"
     ]
    }
   ],
   "source": [
    "ev_c2 = 1.783e-36   # eV/c^2 in units of kg\n",
    "me_kg   = 9.1e-31   # mass of e- [kg]\n",
    "me = me_kg/ev_c2    # mass of e- [eV/c^2]\n",
    "c = 3e8             # speed of light [m/s]\n",
    "\n",
    "v = np.sqrt(1-(510/(60+510))**2) # speed of e- w.r.t c i.e., gamma factor\n",
    "print('(non)relativistic electron velocity(/c) is ' +str(v) + ' (' + str(np.sqrt(2*60/510)) + ')')      # v vs. non-relativistic calculation for velocity\n",
    "\n",
    "h = 4.135e-15       # plank's constant [eV]  (not h-bar, just h)\n",
    "l_NV = 575          # nv wavelength [nm]\n",
    "f_NV = c*1e9/l_NV   # frequency (conversion nm <--> m)\n",
    "E_NV = h * f_NV     # energy [eV]\n",
    "E_660 = h * (c*1e9/660)\n",
    "E_610 = h * (c*1e9/610)\n",
    "DE = E_NV - E_660   # energy lost to plasmon [eV]\n",
    "print('energy lost to plasmon around ' + str(DE) + ' eV')\n",
    "\n",
    "\n",
    "q = 1.602e-19       # electron charge [C]\n",
    "I0 = q/1e-9 * 1e9   # current for 1 e- per ns [nA]\n",
    "print('current for 1e- per 1 nanosecond is ' + str(I0) + ' nA')\n"
   ]
  },
  {
   "cell_type": "markdown",
   "metadata": {},
   "source": [
    "# Monte Carlo Simulation Cathodoluminescence \n",
    "Following Meuret, Kociak, et. al., PRL & supplemental material. \n",
    "\n",
    "\n",
    "We outline the experimental and some material parameters taken from the literature which are allow our caculations to be realistic with respect to materials properties. \n",
    "\n",
    "#### Energy-scales\n",
    "The electrons are accelerated with $60 keV$ potential. At this energy scale the electrons move at a veloctity $v = .44 * c$ \n",
    "\n",
    "1. Plasmon modes should be $\\mathcal{O}(10 eV)$ excitations. This correlates well with the big EELS peak around 40 eV in Kociak's supplemental material. \n",
    "2. Electron-hole exicton pairs are of $E_{eh} = 5 eV$ as per the band-gap in diamond\n",
    "3. NV$^0$ centers with $2.156 eV$ (575nm) energy gap between a doublet $^2E$ states and $^2A$ states. The NV gap isembedded within the semiconductor band-gap. \n",
    "4. There exist phonon bands with much lower energies than all the modes listed above. Photons exhibiting maximal bunching lie between 610-665 nm and this corresponds to a loss of $\\sim .25eV$\n",
    "\n"
   ]
  },
  {
   "cell_type": "markdown",
   "metadata": {},
   "source": [
    "#### Timescales\n",
    "\n",
    "The e-beam current depends on the extraction voltage which removes electrons.In the Kociak paper the currents range between $1pA$-$100pA$ while the ORNL experiment uses currents betwee $100 pA$ to $10 nA$. \n",
    "\n",
    "0. Bunching bandwidth of $\\sim 100ns$ for 610 nm and 665 nm filtered data.\n",
    "1. NV decay timescales seems to be on the order of $\\mathcal{O}(10ns)$. \n",
    "\n",
    "\n",
    "#### Other physical constraints \n",
    "\n",
    "0. Following Kociak in the supplemental material section 6 the average plasmon creation number should be taken around ~2 \n",
    "1. The interaction probability is defined as $P_{INT} \\equiv 1 - \\exp \\left\\{ - l_d \\sigma \\rho \\right\\}$]\n",
    "   * The NV density is ~ 1200 NV color centers / nanocrystal. Since each nanocrystal is ~ $100 nm^3$ that comes to a rough density of $\\rho = 1.2 *10^{-3} \\frac{NV}{nm^3}$ or $\\approx 1 \\frac{NV}{(10nm)^3}$\n",
    "\n",
    "\n",
    "## Time series simulation \n",
    "The time series simulation is performed in two different ways below \n",
    "\n",
    "1. We discretizing time into timesteps dt and at each either select an electron arrival or do not. \n",
    "   * Likewise, for NV's which are excited, they are allowed to probablistically decay at each timestep.. \n",
    "    \n",
    "B. Following Kociak again, we stochastically pick electron arrivals times. \n",
    "   * These arrival time shall be the excitation times for the (possibly many) NV's which are stimulated within a very short (ps) time window. \n",
    "   * We also stochastically choose NV radiation times \n"
   ]
  },
  {
   "cell_type": "code",
   "execution_count": 3,
   "metadata": {
    "collapsed": true
   },
   "outputs": [],
   "source": [
    "dt = 1                                  # time step in units of 10 [ps]\n",
    "tm = 1e3 * dt                           # mean arrival time for em -- related to the current \n",
    "t_f = 1e4 * dt                          # simulation end time\n",
    "t_em = np.linspace(0,t_f,int(t_f/dt))   # discretize time domain\n",
    "\n",
    "\n",
    "# radiation statistical properties\n",
    "tau_NV = 1e3 * dt                       # timescale for NV relaxation\n",
    "p_rad = 1 - np.exp(-dt/tau_NV)          # emission probability at each timestep\n",
    "\n",
    "# electron statistical properties\n",
    "l_em = dt/tm                            # lambda parameter for poisson distribution of e- arrivals\n",
    "p_em = l_em * np.exp(-l_em)             # probabilty of e- arrival & interaction within dt\n",
    "\n",
    "# plasmon statistical properties\n",
    "l_pl = 1                                # poissonian lambda for plasmon generation \n",
    "                                        # ==thickness/mean free path == avg plsmon number\n",
    "n_pl_max = 150                          # max plasmons number cutoff\n",
    "p_pl_pdf = [l_pl**n * np.exp(-l_pl)     # poisson pdf for plasmon generation\n",
    "            / math.factorial(n) for n in range(n_pl_max)] \n",
    "\n",
    "# e-h exciton statistics\n",
    "n_eh = 3                                 # number of e-h pairs excited per plasmon\n",
    "\n",
    "# NV excitation statistics\n",
    "# p_INT = 1 - np.exp(-1/2)               # probability to excite NV\n",
    "p_INT = .1\n",
    "\n",
    "\n",
    "# plasmon poissoinian cumulative distribution function\n",
    "p_pl_cdf = [0] * n_pl_max             \n",
    "for i in range(n_pl_max):   \n",
    "    if i == 0:\n",
    "            p_pl_cdf[0] = p_pl_pdf[0]\n",
    "    else:\n",
    "            p_pl_cdf[i] = p_pl_cdf[i-1] + p_pl_pdf[i]\n",
    "            \n",
    "def pick_npl(r, dist = p_pl_cdf):\n",
    "    \"\"\"\n",
    "    draw plasmon number from \n",
    "    PARAMETERS\n",
    "    ----------\n",
    "    r: random number in [0,1]\n",
    "    dist: cumulative distribution function sampled (p_pl_cdf by default)\n",
    "\n",
    "    RETURNS\n",
    "    -------\n",
    "    # of plasmons excited\n",
    "    \"\"\"\n",
    "    for p in dist:\n",
    "        if r > p:\n",
    "            pass\n",
    "        else:\n",
    "            return dist.index(p)\n",
    "        \n",
    "        \n",
    "##### Numerical definitions of the autocorrelation function. \n",
    "##### taken from https://stackoverflow.com/questions/643699/how-can-i-use-numpy-correlate-to-do-autocorrelation\n",
    "\n",
    "def autocorrelation (x) :\n",
    "    \"\"\"\n",
    "    Compute the autocorrelation of the signal, based on the properties of the\n",
    "    power spectral density of the signal.\n",
    "    \"\"\"\n",
    "    xp = x-np.mean(x)\n",
    "    f = np.fft.fft(xp)\n",
    "    p = np.array([np.real(v)**2+np.imag(v)**2 for v in f])\n",
    "    pi = np.fft.ifft(p)\n",
    "#     return np.real(pi)[:int(x.size/2)]/np.sum(xp**2)   \n",
    "    return np.real(pi)/np.sum(xp**2)     # modify to return whole autocorrelation\n",
    "\n",
    "def autocorr(x):\n",
    "    result = np.correlate(x, x, mode='full')\n",
    "    return result[int(result.size/2):]\n",
    "\n"
   ]
  },
  {
   "cell_type": "markdown",
   "metadata": {},
   "source": [
    "# Exponential decay properties\n",
    "\n",
    "Interaction times for electrons and emission times\n",
    "Find proper radiation probability given a mean lifetime/halflife for the NV relaxation events"
   ]
  },
  {
   "cell_type": "code",
   "execution_count": 4,
   "metadata": {},
   "outputs": [
    {
     "data": {
      "image/png": "[encoded data removed]",
      "text/plain": [
       "<matplotlib.figure.Figure at 0x10b60c4a8>"
      ]
     },
     "metadata": {},
     "output_type": "display_data"
    },
    {
     "data": {
      "image/png": "[encoded data removed]",
      "text/plain": [
       "<matplotlib.figure.Figure at 0x10b6e0ef0>"
      ]
     },
     "metadata": {},
     "output_type": "display_data"
    }
   ],
   "source": [
    "em_times = [0] * 1000\n",
    "counter = [0] * len(t_em)\n",
    "counter[0] = len(em_times)\n",
    "\n",
    "for i,t in enumerate(t_em):\n",
    "    \n",
    "    if i > 0:\n",
    "        counter[i] = counter[i-1]\n",
    "    \n",
    "    emissionss = 0\n",
    "    for j in range(len(em_times)):\n",
    "        if em_times[j]==0 and random.random() < p_rad:\n",
    "            em_times[j] = t * 0.01\n",
    "            emissionss += 1\n",
    "     \n",
    "    counter[i] = counter[i] - emissionss\n",
    "\n",
    "nzn_times = [e for e in em_times if e != 0.0]\n",
    "plt.hist(nzn_times, normed=True, bins=10)\n",
    "plt.show()\n",
    "\n",
    "decay_t = [len(em_times) * (np.exp(-t/tau_NV)) for t in t_em]\n",
    "plt.plot(t_em * 0.01, counter, label = 'simulation')\n",
    "plt.plot(t_em * 0.01, decay_t, label = 'expected decay')\n",
    "plt.legend()\n",
    "plt.show()\n"
   ]
  },
  {
   "cell_type": "markdown",
   "metadata": {},
   "source": [
    "# Discretized time simulation\n",
    "After setting all the stochastic parameters above we are ready to simulate our system. \n",
    "This is done in the code below. "
   ]
  },
  {
   "cell_type": "code",
   "execution_count": 5,
   "metadata": {},
   "outputs": [
    {
     "name": "stdout",
     "output_type": "stream",
     "text": [
      "number of e- arrivals is 11\n",
      "electron arrival frequency was found to be 0.0011 vs the expected value of0.000999000499833\n"
     ]
    }
   ],
   "source": [
    "NVs = [0] * len(t_em)                    # pre-allocate list for NVs excited at each timestep\n",
    "\n",
    "em_arrivals = [0] * len(t_em)            # track arrival/excitations times for all modes\n",
    "pl_arrivals = [0] * len(t_em)\n",
    "nv_arrivals = [0] * len(t_em)\n",
    "\n",
    "for i, t in enumerate(t_em):             # loop through discretized time domain    \n",
    "    for l in range(i):                   # stocastically relax NVs excited at earlier times t_l < t_i\n",
    "        if NVs[l] != 0:                  # exclude times w/ no excited NVs\n",
    "            for m, n in enumerate(NVs[l]):\n",
    "#                 print('Looking backwards to NVs excited at time ' + str(l))\n",
    "                if random.random() < p_rad and n[1] == 0:\n",
    "#                     print('Radiative event triggered at time ' + str(t_em[l]))\n",
    "#                     print('index and excitation times ')\n",
    "#                     print(m, n)\n",
    "                    NVs[l][m][1] = t     # assign emission time \n",
    "    \n",
    "    \n",
    "    if  random.random() < p_em:                   # successful electron nano-crystal interaction \n",
    "        npl = pick_npl(random.random())           # number of plasmon modes populated according to p_pl_cdf\n",
    "        \n",
    "        NVs[i] = [[t,0] for j in range(npl)       # mark time of arrival \n",
    "                  for k in range(n_eh)            \n",
    "                  if random.random() < p_INT]\n",
    "\n",
    "        # track all exictations at each time-step\n",
    "        em_arrivals[i] = 1                        # electrons\n",
    "        pl_arrivals[i] = npl                      # plasmons\n",
    "\n",
    "        if len(NVs[i]) == 0:\n",
    "            NVs[i] = 0\n",
    "            nv_arrivals[i] = 0\n",
    "        else:\n",
    "            nv_arrivals[i] = len(NVs[i])              # NVs\n",
    "        \n",
    "print('number of e- arrivals is ' + str(sum(em_arrivals)) + \n",
    "      '\\n' + 'electron arrival frequency was found to be ' + \n",
    "      str(sum(em_arrivals)/len(t_em))  + ' vs the expected value of' + str(p_em))"
   ]
  },
  {
   "cell_type": "code",
   "execution_count": 6,
   "metadata": {},
   "outputs": [
    {
     "data": {
      "image/png": "[encoded data removed]",
      "text/plain": [
       "<matplotlib.figure.Figure at 0x10b7c8240>"
      ]
     },
     "metadata": {},
     "output_type": "display_data"
    },
    {
     "name": "stdout",
     "output_type": "stream",
     "text": [
      "total time is 10000\n",
      "\n",
      "11 electrons were excited \n",
      "\n",
      "8 plasmons were excited \n",
      "\n",
      "3 NV centers were excited \n",
      "\n",
      "3 radiation events were detected\n"
     ]
    }
   ],
   "source": [
    "exicted_NVs = [n for n in NVs if n != [] and n != 0]\n",
    "rad_times = [t[1] for times in exicted_NVs for t in times if t[1] != 0]\n",
    "rad_times.sort()\n",
    "rad_times_ns = [r * 0.01 for r in rad_times]           # rescaling of radiation times to [ns] units\n",
    "\n",
    "\n",
    "tofe = [rad_times.count(t) for t in t_em]              # emissions per time\n",
    "\n",
    "fig, ax = plt.subplots(5, 1, sharex=True, figsize=(15,15))\n",
    "\n",
    "ax[0].plot(t_em * 0.01, em_arrivals,'.',)\n",
    "ax[1].plot(t_em * 0.01, pl_arrivals,'.')\n",
    "ax[2].plot(t_em * 0.01, nv_arrivals, '.')\n",
    "ax[3].plot(t_em * 0.01, tofe, '.')\n",
    "ax[4].hist(rad_times_ns, normed=True, bins=50)\n",
    "\n",
    "\n",
    "ax[0].set_ylabel('Electron interactions')\n",
    "ax[1].set_ylabel('Plasmon exictations')\n",
    "ax[2].set_ylabel('NV exictations')\n",
    "ax[3].set_ylabel('Number of emissions')\n",
    "ax[4].set_ylabel('Probability of radiation')\n",
    "plt.show()\n",
    "\n",
    "# print total: # timesteps, e- arrivals, plasmon excitations, nv_excitations\n",
    "print(\"total time is \" + str(len(t_em)) + \"\\n\")\n",
    "print(str(sum(em_arrivals)) + \" electrons were excited \\n\")\n",
    "print(str(sum(pl_arrivals)) + \" plasmons were excited \\n\")\n",
    "print(str(sum(nv_arrivals)) + \" NV centers were excited \\n\")\n",
    "print(str(sum(tofe)) + ' radiation events were detected')"
   ]
  },
  {
   "cell_type": "markdown",
   "metadata": {},
   "source": [
    "## Calculate temporal autocorrelation, i.e. g2\n",
    "\n",
    "Let us associate the above data labeled tofe, which is a time series data containing the number of emsissions per unit $dt$, with the cathodoluminescenc intensity $I(t)$, where t ranges from $t_0 = 0$ to the final time $t_f$ specified at the top of the code block.\n",
    "\n",
    "\n",
    "The autocorrelation function is defined as $$ R(\\tau) = \\frac{E\\left[(I_t - \\mu)(I_{t+\\tau} - \\mu)\\right]}{\\sigma^2}. $$\n",
    "\n",
    "Our data set has a finite length ($t_f/\\delta t = t_f$) while the above equation is abstractly defined for an infinite time series.\n",
    "We therefore calculate the autocorrelation over a range $2 * \\tau_{MAX} = t_f$, i.e., from $-\\tau_{MAX}$ to $\\tau_{MAX}$.\n",
    "To do so, we modify the definition of the autocorrelation function in a few ways: \n",
    "1. We define $I_{0}$ a slice of the total time series data which is centered at $t_f/2$ and of length $2 \\tau_{MAX}$. Likewise, we also break up the time series data into a series of slices , of length $2 \\tau_{MAX}$, which are centered about time $t_f/2 + \\delta t * i$ for $i \\in (-N_{MAX}, \\cdots ,-1, 0, 1, \\cdots, N_{MAX})$ where $N_{MAX} = t_f/(4 \\delta t) \\equiv \\tau_{MAX}$\n",
    "2. We take the convolution of each $I_i$ with $I_0$, \n",
    "$$ C_i = \\sum_{j=1}^{2*N_{MAX}} \\left[ I_i(j) I_0(j) \\right]$$\n",
    "3. We then divide this by the mean of each data set to get our g2: $$g^2(\\tau) = \\frac{C_{\\tau}}{\\mu_{\\tau} \\mu_0} $$\n"
   ]
  },
  {
   "cell_type": "code",
   "execution_count": 7,
   "metadata": {},
   "outputs": [
    {
     "name": "stderr",
     "output_type": "stream",
     "text": [
      "/opt/local/Library/Frameworks/Python.framework/Versions/3.5/lib/python3.5/site-packages/ipykernel_launcher.py:13: RuntimeWarning: invalid value encountered in double_scalars\n",
      "  del sys.path[0]\n"
     ]
    },
    {
     "data": {
      "image/png": "[encoded data removed]",
      "text/plain": [
       "<matplotlib.figure.Figure at 0x10b521b70>"
      ]
     },
     "metadata": {},
     "output_type": "display_data"
    },
    {
     "data": {
      "image/png": "[encoded data removed]",
      "text/plain": [
       "<matplotlib.figure.Figure at 0x10c418a58>"
      ]
     },
     "metadata": {},
     "output_type": "display_data"
    },
    {
     "data": {
      "image/png": "[encoded data removed]",
      "text/plain": [
       "<matplotlib.figure.Figure at 0x10c0cc978>"
      ]
     },
     "metadata": {},
     "output_type": "display_data"
    },
    {
     "data": {
      "image/png": "[encoded data removed]",
      "text/plain": [
       "<matplotlib.figure.Figure at 0x10c4349b0>"
      ]
     },
     "metadata": {},
     "output_type": "display_data"
    },
    {
     "data": {
      "image/png": "[encoded data removed]",
      "text/plain": [
       "<matplotlib.figure.Figure at 0x10c4e1e48>"
      ]
     },
     "metadata": {},
     "output_type": "display_data"
    }
   ],
   "source": [
    "tau_max = int(len(tofe)/4)\n",
    "data0 = tofe[tau_max:3 * tau_max]\n",
    "mu_2 = np.mean(data0)**2\n",
    "def data(delay):\n",
    "    \"\"\"\n",
    "    Time series day with integer delay\n",
    "    \"\"\"\n",
    "    return tofe[0 + delay: 2 * tau_max + delay]\n",
    "\n",
    "corr_data = [0] * 2 * tau_max\n",
    "for i in range(2 * tau_max):\n",
    "    di = data(i)\n",
    "    corr_data[i] = sum(data0[j] * di[j] for j in range(2 * tau_max))/(2 * tau_max * np.mean(data0) * np.mean(di))\n",
    "\n",
    "plt.plot(corr_data)\n",
    "plt.show()\n",
    "\n",
    "\n",
    "plt.plot(corr_data[tau_max-100:tau_max+100], '.') #zoom into zero delay signal window\n",
    "plt.show()\n",
    "\n",
    "corr_data.pop(tau_max)\n",
    "plt.plot(corr_data, '.')\n",
    "plt.show()\n",
    "\n",
    "ac1 = autocorrelation(np.array(tofe))\n",
    "plt.plot(ac1)\n",
    "plt.show()\n",
    "\n",
    "ac2 = autocorr(np.array(tofe))\n",
    "plt.plot(ac2)\n",
    "plt.show()\n",
    "\n"
   ]
  },
  {
   "cell_type": "markdown",
   "metadata": {},
   "source": [
    "## Delay based histogram reconstruction of $g^2(\\tau)$\n"
   ]
  },
  {
   "cell_type": "code",
   "execution_count": 11,
   "metadata": {},
   "outputs": [
    {
     "data": {
      "image/png": "[encoded data removed]",
      "text/plain": [
       "<matplotlib.figure.Figure at 0x10c890a90>"
      ]
     },
     "metadata": {},
     "output_type": "display_data"
    },
    {
     "data": {
      "image/png": "[encoded data removed]",
      "text/plain": [
       "<matplotlib.figure.Figure at 0x10c88c048>"
      ]
     },
     "metadata": {},
     "output_type": "display_data"
    }
   ],
   "source": [
    "rad_tally = [rad_times_ns.count(c) for c in rad_times_ns]\n",
    "\n",
    "# IMMEDIATE DELAYS ONLY \n",
    "# Kind of in the sytle of kociak. \n",
    "# 256 ps bin-sizes\n",
    "\n",
    "delaytimes = [rad_times_ns[i+1] - rad_times_ns[i] for i in range(len(rad_times_ns)-1)]\n",
    "plt.hist(delaytimes, bins=20)\n",
    "plt.show()\n",
    "\n",
    "\n",
    "\n",
    "\n",
    "delay_mat = [r1 - r2 for r1 in rad_times_ns for r2 in rad_times_ns]\n",
    "# np.array(delay_mat).shape == (len(rad_times_ns)**2,)   # check shape\n",
    "plt.hist(delay_mat, bins=20)\n",
    "plt.show()"
   ]
  },
  {
   "cell_type": "markdown",
   "metadata": {},
   "source": [
    "We now estimate the g2 correlation function by playing a little trick with the way that the time series emission data is interpreted. Namely, we go through the radiation events selecting a single reference event, let us say it is the $i$th event.\n",
    "We imagine that this photon was detected by the first detector (click!) at time $t_i$. \n",
    "We now count the 'binned coincidences' by tagging other radiative emissions within a time window ($2 \\tau_{MAX}$) centered about $t_i$, that is, $\\tau^{(i)}_g = \\left[ t_0 - \\tau_{MAX} , \\tau_0 +  \\tau_{MAX} \\right]$.\n",
    "\n",
    "\n"
   ]
  },
  {
   "cell_type": "code",
   "execution_count": 9,
   "metadata": {},
   "outputs": [
    {
     "data": {
      "image/png": "[encoded data removed]",
      "text/plain": [
       "<matplotlib.figure.Figure at 0x10c66ec18>"
      ]
     },
     "metadata": {},
     "output_type": "display_data"
    }
   ],
   "source": [
    "TTM = 1e3 * 0.01     # 2 * \\tau_MAX == total tau max [ns]\n",
    "windowed_delay_times = []\n",
    "for ti in rad_times_ns:\n",
    "    if ti > TTM and ti < max(t_em * 0.01) - TTM: # make sure TTM time gap exists to left and right of t_i\n",
    "        within_window = [r - ti for r in rad_times_ns if abs(r-ti) <= TTM] #and r != ti]\n",
    "        windowed_delay_times.append(within_window)\n",
    "        \n",
    "\n",
    "merged_delays = list(itertools.chain.from_iterable(windowed_delay_times)) # flatten list of lists\n",
    "\n",
    "plt.hist(merged_delays, bins=20)\n",
    "plt.show()"
   ]
  },
  {
   "cell_type": "code",
   "execution_count": 10,
   "metadata": {},
   "outputs": [
    {
     "data": {
      "image/png": "[encoded data removed]",
      "text/plain": [
       "<matplotlib.figure.Figure at 0x10b6acb00>"
      ]
     },
     "metadata": {},
     "output_type": "display_data"
    }
   ],
   "source": [
    "TTM = 1e3 * 0.01     # 2 * \\tau_MAX == total tau max [ns]\n",
    "windowed_delay_times = []\n",
    "for ti in rad_times_ns:\n",
    "    if ti > TTM and ti < max(t_em * 0.01) - TTM: # make sure TTM time gap exists to left and right of t_i\n",
    "        within_window = [r - ti for r in rad_times_ns if abs(r-ti) <= TTM and r != ti]\n",
    "        windowed_delay_times.append(within_window)\n",
    "        \n",
    "\n",
    "merged_delays = list(itertools.chain.from_iterable(windowed_delay_times)) # flatten list of lists\n",
    "\n",
    "plt.hist(merged_delays, bins=20)\n",
    "plt.show()"
   ]
  },
  {
   "cell_type": "markdown",
   "metadata": {
    "collapsed": true
   },
   "source": [
    "# Poissonian time series simulation\n",
    "\n",
    "We simulate the experimenal data using a simple monte carlo simulation. \n",
    "In our numerics we build a probability function $t_{em}$ as matrix consiting of radiation times.\n",
    "The radiation times are taken to depend on the electron beam current and on the nano-crystal-NV physics. \n",
    "\n",
    "$$ t^{ij}_{em} =  $$\n",
    "\n",
    "1. Given a constant current, the average arrival time $\\Delta t$ between electrons in the e-beam is $\\Delta t = I/q_e$ where $I$ is the beam current and $q_e = 1.602*10^{-19}C$ is the electron charge. Generating the inter-electron times $\\Delta i$'s from a Poissonian distribution is performed by the emn_arrivals function. Define the global arrival times recursively $t_n = \\Delta_n + t_{n-1}$ to consider the set $\\{ t_1, ... t_N\\}$. $$ $$ The $\\Delta i$'s are sampled as follows. Conider the poisson probabilty distibution $P(k,\\lambda) = {\\displaystyle {\\frac {\\lambda ^{k}e^{-\\lambda }}{k!}}}$. The probablity of for the $k=0$ event for $m$ consecutive samples is $P(0,\\lambda)^m = e^{-m \\lambda}$. This exponential decay distribution and electron times are thus simulated by taking $\\Delta_i = - t_m \\ln(1-r_i)$ where each $r_i$ is a random number evenly distributed along the interval $\\left[0,1\\right]$. This collection of $\\{ \\Delta_i \\}$ and the interaction times ($\\{ t_1, ... t_N\\}$) constitute the first poissonian simulated data.\n",
    "\n",
    "\n",
    "2. At each $t_i$ the electron activates a number of microscipic modes  associated with the Nano-diamond samples. Since we count the emissions originating from the NV color centers, we construct an simple effective model to treat the internal dynamics. Due to the broad nature of the electron beam exictations, many modes (plasmons, phonons, e-h excitions, and NVs) are excited at each electron arrival time $t_i$. A simple model considering the activation of NV's through plasmonic, and exiton pathways was considered earlier \\cite{Meuret}. \n",
    "\n",
    "\n",
    " At each of these times  are excited. Eventually the excited NV's radiate at some later time. The radiation times are output by the radiation times function\n",
    " generates a series of times at from which NV centers may emit\n",
    "\n",
    "\n",
    "3. Finally we post-proccess the radiation times into a histogram style g2 correlation function"
   ]
  },
  {
   "cell_type": "code",
   "execution_count": 56,
   "metadata": {},
   "outputs": [
    {
     "data": {
      "image/png": "[encoded data removed]",
      "text/plain": [
       "<matplotlib.figure.Figure at 0x1cf76ec18>"
      ]
     },
     "metadata": {},
     "output_type": "display_data"
    },
    {
     "data": {
      "image/png": "[encoded data removed]",
      "text/plain": [
       "<matplotlib.figure.Figure at 0x1cf6fc710>"
      ]
     },
     "metadata": {},
     "output_type": "display_data"
    }
   ],
   "source": [
    "arrival_times = em_arrrivals(mean_time=1 , number=int(1e3))\n",
    "\n",
    "plt.hist(arrival_times[0], bins =10)\n",
    "plt.xlabel('$\\Delta t$')\n",
    "plt.ylabel('$\\Delta_i [ns] frenquency$')\n",
    "\n",
    "plt.show()\n",
    "plt.plot(arrival_times[1])\n",
    "plt.xlabel('$i $')\n",
    "plt.ylabel('$t_i [ns]$')\n",
    "plt.show()"
   ]
  },
  {
   "cell_type": "code",
   "execution_count": 58,
   "metadata": {},
   "outputs": [],
   "source": [
    "def em_arrrivals(mean_time, number = 1000):\n",
    "    \"\"\"\n",
    "    Simulate the arrival times of e- particles\n",
    "    according to a poission distribution given \n",
    "    \n",
    "    Parameters\n",
    "    ----------\n",
    "    mean_time: the poissonian mean time (i.e. lambda parameter)\n",
    "    number: the number of times to simulate\n",
    "    \n",
    "    Retruns\n",
    "    -------\n",
    "    delta_ts: delays between electrons\n",
    "    times:    times of electron arrivals\n",
    "    \"\"\"\n",
    "    delta_ts = [- mean_time *  np.log(1-random.random()) for i in range(number)]\n",
    "    times = [0] * number\n",
    "\n",
    "    for i,t in enumerate(delta_ts):\n",
    "        if i == 0:\n",
    "            times[i] = delta_ts[i]\n",
    "        else:\n",
    "            times[i] = times[i-1] + delta_ts[i]\n",
    "    return delta_ts, times\n",
    "\n",
    "def radiation_times(times, p_INT, t_r, neh = 3):\n",
    "    \"\"\"\n",
    "    Simulate the radaition times of an unbounded collection of NV's\n",
    "    \n",
    "    Parameters\n",
    "    ----------\n",
    "    times: discretized times at which NV's may be excited\n",
    "    p_INT: probability of an exciton to excite NV instead of dissipating \n",
    "    t_r: radiation timescale (half-life/relaxation time)\n",
    "    neh: number of e-h excitons per plasmon\n",
    "    N_NVl: average number of plasmons excited per e-\n",
    "    \n",
    "    Returns\n",
    "    -------\n",
    "    rad_times: sorted list of times at which a radiation event occurs\n",
    "    \n",
    "    \"\"\"\n",
    "    number = len(times)\n",
    "    nv_arrivals = [0] * number\n",
    "  \n",
    "    for k in range(number):                       # count number of NV excitations accompanying each electron    \n",
    "        npl = 5                                   # number of plasmon modes populated according to p_pl_cdf\n",
    "        for i in range(npl):\n",
    "            for j in range(neh):\n",
    "                if random.random() < p_INT:\n",
    "                    nv_arrivals[k] += 1 \n",
    "                \n",
    "                \n",
    "    rad_times = []                                 # simulate the radiation times series data\n",
    "    for k in range(number):\n",
    "        for j in range(nv_arrivals[k]):\n",
    "            t_rad = - t_r * np.log(1-random.random())\n",
    "            rad_times.append(times[k] + t_rad)\n",
    "\n",
    "    rad_times.sort()\n",
    "    \n",
    "    return  rad_times\n",
    "\n",
    "\n",
    "\n",
    "def delays(rad_times, tau_max):\n",
    "    \"\"\"\n",
    "    Calculate delays 'between each photon and all the others' \n",
    "    within some time window. This way we may\n",
    "    reconstruct the g2 correlation function\n",
    "    in the \"histogram mode\" used to experimentally determine $g^{(2)}$. \n",
    "    The histogramming corresponds to the convolution of \n",
    "    two functions in some discrete time specificed by the bin width\n",
    "\n",
    "    Parameters\n",
    "    ----------\n",
    "    rad_times: a list of ordered radiation times \n",
    "    tau_max: time window, e.g. of 100 ns, for duration of coincedence counting\n",
    "    \n",
    "    Returns:\n",
    "    --------\n",
    "    delay times: w/o self delay at \\tau = 0.0\n",
    "    \"\"\"\n",
    "    t_s = [t for t in rad_times if t > min(rad_times) + tau_max and t < max(rad_times) - tau_max ]\n",
    "\n",
    "    delay_times = []\n",
    "    for t1 in t_s:\n",
    "        \n",
    "        i = rad_times.index(t1)\n",
    "        j = i + 1\n",
    "        k = i - 1\n",
    "        \n",
    "        while abs(rad_times[j] - t1) < tau_max:\n",
    "            delay_times.append(rad_times[j]-t1)\n",
    "            j += 1\n",
    "\n",
    "        while abs(rad_times[k] - t1) < tau_max:\n",
    "            delay_times.append(rad_times[k]-t1)\n",
    "            k -= 1\n",
    "            \n",
    "    return  delay_times"
   ]
  },
  {
   "cell_type": "code",
   "execution_count": null,
   "metadata": {},
   "outputs": [],
   "source": [
    "\n",
    "tm = 1e3         # electron mean arrival time [ps]\n",
    "N = int(1e5)     # number of electron events\n",
    "t_r = 1e4        # NV radiation timescale [ps]    \n",
    "p_INT = 0.1      # e-h/NV excitation probablilty\n",
    "n_bins = 300     # histogram parameter\n",
    "\n",
    "mean_times  = [1e3, 5e3, 1e4, 5e4, 1e5]\n",
    "hists = [0] * len(mean_times)\n",
    "bins  = [0] * len(mean_times)\n",
    "\n",
    "\n",
    "times = [0] * len(mean_times)\n",
    "r_tms = [0] * len(mean_times)\n",
    "delayss = [0] * len(mean_times)\n",
    "\n",
    "\n",
    "tau_max = tm//20\n",
    "\n",
    "for i, tm in enumerate(mean_times):\n",
    "    dts, times[i] = em_arrrivals(tm, N)\n",
    "    r_tms[i] = radiation_times(times[i], p_INT, t_r, neh=3)\n",
    "    delayss[i] = delays(r_tms[i], tau_max)\n",
    "\n",
    "    hist, bin_edges = np.histogram(delayss[i], bins=n_bins)  # Generate the histogram data directly\n",
    "    bin_centers = (bin_edges[:-1] + bin_edges[1:]) / 2.      # Get the centres rather than the edges\n",
    "    hists[i] = hist/((np.mean(hist[int(3*n_bins/4):]) +\n",
    "                  np.mean(hist[:int(1*n_bins/4)]))/2)        # Normalize histogram counts\n",
    "    bins[i] = bin_centers/1000                               # Plot with [ns] time units\n",
    "    print(str(tm/1000) + ' is done')\n",
    "    \n",
    "\n"
   ]
  },
  {
   "cell_type": "code",
   "execution_count": null,
   "metadata": {},
   "outputs": [],
   "source": [
    "f, ax = plt.subplots(1, sharex=True)\n",
    "\n",
    "for i in range(len(mean_times)):\n",
    "    ax.step(bins[i], hists[i], label = str(mean_times[i]/1000))\n",
    "\n",
    "# plt.xlabel('$\\\\tau [ns]$')\n",
    "# plt.ylabel('$g^{(2)}(\\\\tau)$')\n",
    "plt.legend()\n",
    "plt.show()\n"
   ]
  },
  {
   "cell_type": "code",
   "execution_count": null,
   "metadata": {
    "collapsed": true
   },
   "outputs": [],
   "source": []
  }
 ],
 "metadata": {
  "kernelspec": {
   "display_name": "Python 3",
   "language": "python",
   "name": "python3"
  },
  "language_info": {
   "codemirror_mode": {
    "name": "ipython",
    "version": 3
   },
   "file_extension": ".py",
   "mimetype": "text/x-python",
   "name": "python",
   "nbconvert_exporter": "python",
   "pygments_lexer": "ipython3",
   "version": "3.5.3"
  }
 },
 "nbformat": 4,
 "nbformat_minor": 1
}
