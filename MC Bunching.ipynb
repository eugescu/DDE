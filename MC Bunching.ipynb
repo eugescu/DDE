{
 "cells": [
  {
   "cell_type": "code",
   "execution_count": 1,
   "metadata": {
    "collapsed": true
   },
   "outputs": [],
   "source": [
    "import numpy as np\n",
    "\n",
    "import random\n",
    "import math\n",
    "from matplotlib import pyplot as plt"
   ]
  },
  {
   "cell_type": "markdown",
   "metadata": {},
   "source": [
    "# Monte Carlo Simulation Cathodoluminescence \n",
    "Following Meuret, Kociak, et. al., PRL\n",
    "\n"
   ]
  },
  {
   "cell_type": "code",
   "execution_count": 70,
   "metadata": {
    "collapsed": false
   },
   "outputs": [
    {
     "data": {
      "image/png": "[encoded data removed]",
      "text/plain": [
       "<matplotlib.figure.Figure at 0x107343160>"
      ]
     },
     "metadata": {},
     "output_type": "display_data"
    },
    {
     "data": {
      "text/plain": [
       "(0.047561471225035706, 0.39346934028736658, 0.01)"
      ]
     },
     "execution_count": 70,
     "metadata": {},
     "output_type": "execute_result"
    }
   ],
   "source": [
    "plt.plot(p_pl_pdf)\n",
    "plt.show()\n",
    "\n",
    "\n",
    "p_em, p_INT, p_rad, \n",
    "\n"
   ]
  },
  {
   "cell_type": "code",
   "execution_count": null,
   "metadata": {
    "collapsed": false
   },
   "outputs": [],
   "source": [
    "dt = 1                                  # time step in units of 10^-10 s = .1 ns = 100ps\n",
    "tm = 20 * dt                            # mean arrival time\n",
    "t_f = 1e4 * dt                          # final time to end experiment\n",
    "t_em = np.linspace(0,t_f,int(t_f/dt))   # discretize time\n",
    "\n",
    "# electron statistics\n",
    "l_em = dt/tm                            # lambda parameter for e- poisson distribution\n",
    "p_em = l_em * np.exp(-l_em)             # probabilty of e- within timestep \n",
    "\n",
    "# plasmon statistics\n",
    "l_pl = 5                                # poissonian lambda for plasmon generation \n",
    "                                        # ==thickness/mean free path == avg plsmon number\n",
    "n_pl_max = 150                          # max plasmons number cutoff\n",
    "p_pl_pdf = [l_pl**n * np.exp(-l_pl)     # poisson pdf for plasmon generation\n",
    "            / math.factorial(n) for n in range(n_pl_max)] \n",
    "\n",
    "\n",
    "# plasmon poissoinian cumulative distribution function\n",
    "p_pl_cdf = [0] * n_pl_max             \n",
    "for i in range(n_pl_max):   \n",
    "    if i == 0:\n",
    "            p_pl_cdf[0] = p_pl_pdf[0]\n",
    "    else:\n",
    "            p_pl_cdf[i] = p_pl_cdf[i-1] + p_pl_pdf[i]\n",
    "            \n",
    "def pick_npl(r, dist = p_pl_cdf):\n",
    "    \"\"\"\n",
    "    draw plasmon number from \n",
    "    PARAMETERS\n",
    "    ----------\n",
    "    r: random number in [0,1]\n",
    "    dist: cumulative distribution function sampled (p_pl_cdf by default)\n",
    "\n",
    "    RETURNS\n",
    "    -------\n",
    "    # of plasmons excited\n",
    "    \"\"\"\n",
    "    for p in dist:\n",
    "        if r > p:\n",
    "            pass\n",
    "        else:\n",
    "            return dist.index(p)\n",
    "        \n",
    "# e-h exciton statistics\n",
    "n_eh = 3                                # number of e-h pairs excited per plasmon\n",
    "\n",
    "# NV excitation statistics\n",
    "p_INT = 1 - np.exp(-1/2)                # probability to excite NV\n",
    "  \n",
    "# radiation statistics\n",
    "p_rad = .002                             # emission probability at each timestep\n",
    "\n",
    "\n",
    "    \n",
    "NVs = [0] * len(t_em)                    # pre-allocate list for NVs excited at each timestep\n",
    "\n",
    "em_arrivals = [0] * len(t_em)            # track arrival/excitations times for all modes\n",
    "pl_arrivals = [0] * len(t_em)\n",
    "nv_arrivals = [0] * len(t_em)\n",
    "\n",
    "for i, t in enumerate(t_em):             # loop through discretized time domain    \n",
    "    for l in range(i):                   # stocastically relax NVs excited at earlier times t_l < t_i\n",
    "        if NVs[l] != 0:                  # exclude times w/ no excited NVs\n",
    "            for m, n in enumerate(NVs[l]):\n",
    "#                 print('Looking backwards to NVs excited at time ' + str(l))\n",
    "                if random.random() < p_rad and n[1] == 0:\n",
    "#                     print('Radiative event triggered at time ' + str(t_em[l]))\n",
    "#                     print('index and excitation times ')\n",
    "#                     print(m, n)\n",
    "                    NVs[l][m][1] = t     # assign emission time \n",
    "    \n",
    "    \n",
    "    if  random.random() < p_em:                   # successful electron nano-crystal interaction \n",
    "        npl = pick_npl(random.random())           # number of plasmon modes populated according to p_pl_cdf\n",
    "        \n",
    "        NVs[i] = [[t,0] for j in range(npl)       # mark time of arrival \n",
    "                  for k in range(n_eh)            \n",
    "                  if random.random() < p_INT]\n",
    "\n",
    "        # track all exictations at each time-step\n",
    "        em_arrivals[i] = 1                        # electrons\n",
    "        pl_arrivals[i] = npl                      # plasmons\n",
    "\n",
    "        if len(NVs[i]) == 0:\n",
    "            NVs[i] = 0\n",
    "            nv_arrivals[i] = 0\n",
    "        else:\n",
    "            nv_arrivals[i] = len(NVs[i])              # NVs\n",
    "        \n",
    "        \n",
    "# plt.plot(p_pl_pdf)\n",
    "# plt.plot(p_pl_cdf)\n",
    "# plt.show()\n",
    "sum(em_arrivals) ,sum(em_arrivals)/len(t_em), p_em"
   ]
  },
  {
   "cell_type": "code",
   "execution_count": null,
   "metadata": {
    "collapsed": false
   },
   "outputs": [],
   "source": [
    "exicted_NVs = [n for n in NVs if n != [] and n != 0]\n",
    "rad_times = [t[1] for times in exicted_NVs for t in times if t[1] != 0]\n",
    "rad_times.sort()\n",
    "\n",
    "tofe = [rad_times.count(t) for t in t_em]              # emissions per time\n",
    "\n",
    "fig, ax = plt.subplots(5, 1, sharex=True, figsize=(15,15))\n",
    "\n",
    "ax[0].plot(t_em, em_arrivals,'.',)\n",
    "ax[1].plot(t_em, pl_arrivals,'.')\n",
    "ax[2].plot(t_em, nv_arrivals, '.')\n",
    "ax[3].plot(t_em, tofe, '.')\n",
    "ax[4].hist(rad_times, normed=True, bins=50)\n",
    "\n",
    "\n",
    "ax[0].set_ylabel('Electron interactions')\n",
    "ax[1].set_ylabel('Plasmon exictations')\n",
    "ax[2].set_ylabel('NV exictations')\n",
    "ax[3].set_ylabel('Number of emissions')\n",
    "ax[4].set_ylabel('Probability of radiation')\n",
    "plt.show()\n",
    "\n",
    "# print total: # timesteps, e- arrivals, plasmon excitations, nv_excitations\n",
    "print(\"total time is \" + str(len(t_em)) + \"\\n\")\n",
    "print(str(sum(em_arrivals)) + \" electrons were excited \\n\")\n",
    "print(str(sum(pl_arrivals)) + \" plasmons were excited \\n\")\n",
    "print(str(sum(nv_arrivals)) + \" NV centers were excited \\n\")\n",
    "print(str(sum(tofe)) + ' radiation events were detected')"
   ]
  },
  {
   "cell_type": "code",
   "execution_count": null,
   "metadata": {
    "collapsed": false
   },
   "outputs": [],
   "source": [
    "tau_max = int(len(tofe)/4)\n",
    "data0 = tofe[tau_max:3 * tau_max]\n",
    "mu_2 = np.mean(data0)**2\n",
    "def data(delay):\n",
    "    \"\"\"\n",
    "    Time series day with integer delay\n",
    "    \"\"\"\n",
    "    return tofe[0 + delay: 2 * tau_max + delay]\n",
    "\n",
    "corr_data = [0] * 2 * tau_max\n",
    "for i in range(2 * tau_max):\n",
    "    corr_data[i] = sum(data0[j] * data(i)[j] for j in range(2 * tau_max))/(2 * tau_max * mu_2)\n",
    "\n",
    "plt.plot(corr_data)\n",
    "plt.show()\n",
    "\n",
    "\n",
    "plt.plot(corr_data[tau_max-20:tau_max+20], '.') #zoom into zero delay signal window\n",
    "plt.show()"
   ]
  },
  {
   "cell_type": "code",
   "execution_count": null,
   "metadata": {
    "collapsed": true
   },
   "outputs": [],
   "source": []
  },
  {
   "cell_type": "code",
   "execution_count": 63,
   "metadata": {
    "collapsed": false
   },
   "outputs": [
    {
     "data": {
      "image/png": "[encoded data removed]",
      "text/plain": [
       "<matplotlib.figure.Figure at 0x1073f6710>"
      ]
     },
     "metadata": {},
     "output_type": "display_data"
    }
   ],
   "source": [
    "def autocorr(x):\n",
    "    result = np.correlate(x, x, mode='full')\n",
    "#     return result[int(result.size/2):]\n",
    "    return result\n",
    "\n",
    "\n",
    "plt.plot(autocorr(tofe))\n",
    "plt.show()"
   ]
  },
  {
   "cell_type": "code",
   "execution_count": 42,
   "metadata": {
    "collapsed": false
   },
   "outputs": [
    {
     "data": {
      "image/png": "[encoded data removed]",
      "text/plain": [
       "<matplotlib.figure.Figure at 0x10be56c88>"
      ]
     },
     "metadata": {},
     "output_type": "display_data"
    }
   ],
   "source": [
    "# show that random emission leads to exponential decay of population\n",
    "emission_times = [0] * int(2e3)             # populate this number of NVs\n",
    "\n",
    "for i,t in enumerate(t_em):\n",
    "    for j,e in enumerate(emission_times):\n",
    "        if e == 0:\n",
    "            if random.random() < p_rad:\n",
    "                emission_times[j] = t\n",
    "                \n",
    "plt.hist(emission_times, normed=True, bins=100)\n",
    "plt.ylabel('Probability')\n",
    "plt.show()"
   ]
  },
  {
   "cell_type": "code",
   "execution_count": 67,
   "metadata": {
    "collapsed": false
   },
   "outputs": [
    {
     "data": {
      "image/png": "[encoded data removed]",
      "text/plain": [
       "<matplotlib.figure.Figure at 0x107bd3e10>"
      ]
     },
     "metadata": {},
     "output_type": "display_data"
    },
    {
     "data": {
      "text/plain": [
       "7420"
      ]
     },
     "execution_count": 67,
     "metadata": {},
     "output_type": "execute_result"
    }
   ],
   "source": [
    "plt.plot(tofe)\n",
    "plt.show()\n",
    "\n",
    "not_emissions = 0\n",
    "for i,t in enumerate(tofe):\n",
    "    if t == 0:\n",
    "        not_emissions +=1\n",
    "not_emissions"
   ]
  },
  {
   "cell_type": "code",
   "execution_count": 45,
   "metadata": {
    "collapsed": false
   },
   "outputs": [
    {
     "data": {
      "text/plain": [
       "2000.0"
      ]
     },
     "execution_count": 45,
     "metadata": {},
     "output_type": "execute_result"
    }
   ],
   "source": [
    "max(t_em)"
   ]
  },
  {
   "cell_type": "code",
   "execution_count": 14,
   "metadata": {
    "collapsed": false
   },
   "outputs": [
    {
     "data": {
      "text/plain": [
       "1"
      ]
     },
     "execution_count": 14,
     "metadata": {},
     "output_type": "execute_result"
    }
   ],
   "source": [
    "dt"
   ]
  },
  {
   "cell_type": "code",
   "execution_count": null,
   "metadata": {
    "collapsed": true
   },
   "outputs": [],
   "source": []
  }
 ],
 "metadata": {
  "kernelspec": {
   "display_name": "Python 3",
   "language": "python",
   "name": "python3"
  },
  "language_info": {
   "codemirror_mode": {
    "name": "ipython",
    "version": 3
   },
   "file_extension": ".py",
   "mimetype": "text/x-python",
   "name": "python",
   "nbconvert_exporter": "python",
   "pygments_lexer": "ipython3",
   "version": "3.5.2"
  }
 },
 "nbformat": 4,
 "nbformat_minor": 1
}
