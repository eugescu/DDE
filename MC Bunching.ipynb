{
 "cells": [
  {
   "cell_type": "code",
   "execution_count": 2,
   "metadata": {
    "collapsed": true
   },
   "outputs": [],
   "source": [
    "import numpy as np\n",
    "\n",
    "import random\n",
    "import math\n",
    "from matplotlib import pyplot as plt"
   ]
  },
  {
   "cell_type": "markdown",
   "metadata": {},
   "source": [
    "# Monte Carlo Simulation Cathodoluminescence \n",
    "Following Meuret, Kociak, et. al., PRL & supplemental material. \n",
    "\n",
    "\n",
    "We outline the experimental and some material parameters taken from the literature which are allow our caculations to be realistic with respect to materials properties. \n",
    "\n",
    "#### Energy-scales\n",
    "The electrons are accelerated with $60 keV$ potential. At this energy scale the electrons move at a veloctity $v = .44 * c$ \n",
    "\n",
    "1. Plasmon modes should be $\\mathcal{O}(10 eV)$ excitations. This correlates well with the big EELS peak around 40 eV in Kociak's supplemental material. \n",
    "2. Electron-hole exicton pairs are of $E_{eh} = 5 eV$ as per the band-gap in diamond\n",
    "3. NV$^0$ centers with $2.156 eV$ (575nm) energy gap between a doublet $^2E$ states and $^2A$ states. The NV gap isembedded within the semiconductor band-gap. \n",
    "4. There exist phonon bands with much lower energies than all the modes listed above. Photons exhibiting maximal bunching lie between 610-665 nm and this corresponds to a loss of $\\sim .25eV$\n",
    "\n"
   ]
  },
  {
   "cell_type": "code",
   "execution_count": 5,
   "metadata": {
    "collapsed": false
   },
   "outputs": [
    {
     "name": "stdout",
     "output_type": "stream",
     "text": [
      "(non)relativistic electron velocity(/c) is 0.446593756539 (0.485071250073)\n",
      "energy lost to plasmon around 0.27784584980237126 eV\n",
      "current for 1e- per 1 nanosecond is 0.1602 nA\n"
     ]
    }
   ],
   "source": [
    "ev_c2 = 1.783e-36   # eV/c^2 in units of kg\n",
    "me_kg   = 9.1e-31   # mass of e- [kg]\n",
    "me = me_kg/ev_c2    # mass of e- [eV/c^2]\n",
    "c = 3e8             # speed of light [m/s]\n",
    "\n",
    "v = np.sqrt(1-(510/(60+510))**2) # speed of e- w.r.t c i.e., gamma factor\n",
    "print('(non)relativistic electron velocity(/c) is ' +str(v) + ' (' + str(np.sqrt(2*60/510)) + ')')      # v vs. non-relativistic calculation for velocity\n",
    "\n",
    "h = 4.135e-15       # plank's constant [eV]  (not h-bar, just h)\n",
    "l_NV = 575          # nv wavelength [nm]\n",
    "f_NV = c*1e9/l_NV   # frequency (conversion nm <--> m)\n",
    "E_NV = h * f_NV     # energy [eV]\n",
    "E_660 = h * (c*1e9/660)\n",
    "E_610 = h * (c*1e9/610)\n",
    "DE = E_NV - E_660   # energy lost to plasmon [eV]\n",
    "print('energy lost to plasmon around ' + str(DE) + ' eV')\n",
    "\n",
    "\n",
    "q = 1.602e-19       # electron charge [C]\n",
    "I0 = q/1e-9 * 1e9   # current for 1 e- per ns [nA]\n",
    "print('current for 1e- per 1 nanosecond is ' + str(I0) + ' nA')"
   ]
  },
  {
   "cell_type": "markdown",
   "metadata": {},
   "source": [
    "#### Timescales\n",
    "\n",
    "The e-beam current depends on the extraction voltage which removes electrons.In the Kociak paper the currents range between $1pA$-$100pA$ while the ORNL experiment uses currents betwee $100 pA$ to $10 nA$. \n",
    "\n",
    "0. Bunching bandwidth of $\\sim 100ns$ for 610 nm and 665 nm filtered data.\n",
    "1. NV decay timescales seems to be on the order of $\\mathcal{O}(10ns)$. "
   ]
  },
  {
   "cell_type": "code",
   "execution_count": 236,
   "metadata": {
    "collapsed": false
   },
   "outputs": [
    {
     "data": {
      "text/plain": [
       "(94, 0.0094, 0.0099004983374916811)"
      ]
     },
     "execution_count": 236,
     "metadata": {},
     "output_type": "execute_result"
    }
   ],
   "source": [
    "dt = 1                                  # time step in units of 10 [ps]\n",
    "tm = 1e2 * dt                           # mean arrival time for em -- related to the current \n",
    "t_f = 1e4 * dt                          # simulation end time\n",
    "t_em = np.linspace(0,t_f,int(t_f/dt))   # discretize time domain\n",
    "\n",
    "\n",
    "# radiation statistical properties\n",
    "tau_NV = 1e3 * dt                       # timescale for NV relaxation\n",
    "p_rad = 1 - np.exp(-dt/tau_NV)          # emission probability at each timestep\n",
    "\n",
    "# electron statistical properties\n",
    "l_em = dt/tm                            # lambda parameter for poisson distribution of e- arrivals\n",
    "p_em = l_em * np.exp(-l_em)             # probabilty of e- arrival & interaction within dt\n",
    "\n",
    "# plasmon statistical properties\n",
    "l_pl = 5                               # poissonian lambda for plasmon generation \n",
    "                                        # ==thickness/mean free path == avg plsmon number\n",
    "n_pl_max = 150                          # max plasmons number cutoff\n",
    "p_pl_pdf = [l_pl**n * np.exp(-l_pl)     # poisson pdf for plasmon generation\n",
    "            / math.factorial(n) for n in range(n_pl_max)] \n",
    "\n",
    "\n",
    "# plasmon poissoinian cumulative distribution function\n",
    "p_pl_cdf = [0] * n_pl_max             \n",
    "for i in range(n_pl_max):   \n",
    "    if i == 0:\n",
    "            p_pl_cdf[0] = p_pl_pdf[0]\n",
    "    else:\n",
    "            p_pl_cdf[i] = p_pl_cdf[i-1] + p_pl_pdf[i]\n",
    "            \n",
    "def pick_npl(r, dist = p_pl_cdf):\n",
    "    \"\"\"\n",
    "    draw plasmon number from \n",
    "    PARAMETERS\n",
    "    ----------\n",
    "    r: random number in [0,1]\n",
    "    dist: cumulative distribution function sampled (p_pl_cdf by default)\n",
    "\n",
    "    RETURNS\n",
    "    -------\n",
    "    # of plasmons excited\n",
    "    \"\"\"\n",
    "    for p in dist:\n",
    "        if r > p:\n",
    "            pass\n",
    "        else:\n",
    "            return dist.index(p)\n",
    "        \n",
    "# e-h exciton statistics\n",
    "n_eh = 3                                 # number of e-h pairs excited per plasmon\n",
    "\n",
    "# NV excitation statistics\n",
    "# p_INT = 1 - np.exp(-1/2)               # probability to excite NV\n",
    "p_INT = .1\n",
    "\n",
    "\n",
    "    \n",
    "NVs = [0] * len(t_em)                    # pre-allocate list for NVs excited at each timestep\n",
    "\n",
    "em_arrivals = [0] * len(t_em)            # track arrival/excitations times for all modes\n",
    "pl_arrivals = [0] * len(t_em)\n",
    "nv_arrivals = [0] * len(t_em)\n",
    "\n",
    "for i, t in enumerate(t_em):             # loop through discretized time domain    \n",
    "    for l in range(i):                   # stocastically relax NVs excited at earlier times t_l < t_i\n",
    "        if NVs[l] != 0:                  # exclude times w/ no excited NVs\n",
    "            for m, n in enumerate(NVs[l]):\n",
    "#                 print('Looking backwards to NVs excited at time ' + str(l))\n",
    "                if random.random() < p_rad and n[1] == 0:\n",
    "#                     print('Radiative event triggered at time ' + str(t_em[l]))\n",
    "#                     print('index and excitation times ')\n",
    "#                     print(m, n)\n",
    "                    NVs[l][m][1] = t     # assign emission time \n",
    "    \n",
    "    \n",
    "    if  random.random() < p_em:                   # successful electron nano-crystal interaction \n",
    "        npl = pick_npl(random.random())           # number of plasmon modes populated according to p_pl_cdf\n",
    "        \n",
    "        NVs[i] = [[t,0] for j in range(npl)       # mark time of arrival \n",
    "                  for k in range(n_eh)            \n",
    "                  if random.random() < p_INT]\n",
    "\n",
    "        # track all exictations at each time-step\n",
    "        em_arrivals[i] = 1                        # electrons\n",
    "        pl_arrivals[i] = npl                      # plasmons\n",
    "\n",
    "        if len(NVs[i]) == 0:\n",
    "            NVs[i] = 0\n",
    "            nv_arrivals[i] = 0\n",
    "        else:\n",
    "            nv_arrivals[i] = len(NVs[i])              # NVs\n",
    "        \n",
    "        \n",
    "# plt.plot(p_pl_pdf)\n",
    "# plt.plot(p_pl_cdf)\n",
    "# plt.show()\n",
    "sum(em_arrivals) ,sum(em_arrivals)/len(t_em), p_em"
   ]
  },
  {
   "cell_type": "code",
   "execution_count": 237,
   "metadata": {
    "collapsed": false
   },
   "outputs": [
    {
     "data": {
      "image/png": "[encoded data removed]",
      "text/plain": [
       "<matplotlib.figure.Figure at 0x109cdbc18>"
      ]
     },
     "metadata": {},
     "output_type": "display_data"
    },
    {
     "name": "stdout",
     "output_type": "stream",
     "text": [
      "total time is 10000\n",
      "\n",
      "94 electrons were excited \n",
      "\n",
      "500 plasmons were excited \n",
      "\n",
      "181 NV centers were excited \n",
      "\n",
      "144 radiation events were detected\n"
     ]
    }
   ],
   "source": [
    "exicted_NVs = [n for n in NVs if n != [] and n != 0]\n",
    "rad_times = [t[1] for times in exicted_NVs for t in times if t[1] != 0]\n",
    "rad_times.sort()\n",
    "rad_times_ns = [r * 0.01 for r in rad_times]           # rescaling of radiation times to [ns] units\n",
    "\n",
    "\n",
    "tofe = [rad_times.count(t) for t in t_em]              # emissions per time\n",
    "\n",
    "fig, ax = plt.subplots(5, 1, sharex=True, figsize=(15,15))\n",
    "\n",
    "ax[0].plot(t_em * 0.01, em_arrivals,'.',)\n",
    "ax[1].plot(t_em * 0.01, pl_arrivals,'.')\n",
    "ax[2].plot(t_em * 0.01, nv_arrivals, '.')\n",
    "ax[3].plot(t_em * 0.01, tofe, '.')\n",
    "ax[4].hist(rad_times_ns, normed=True, bins=50)\n",
    "\n",
    "\n",
    "ax[0].set_ylabel('Electron interactions')\n",
    "ax[1].set_ylabel('Plasmon exictations')\n",
    "ax[2].set_ylabel('NV exictations')\n",
    "ax[3].set_ylabel('Number of emissions')\n",
    "ax[4].set_ylabel('Probability of radiation')\n",
    "plt.show()\n",
    "\n",
    "# print total: # timesteps, e- arrivals, plasmon excitations, nv_excitations\n",
    "print(\"total time is \" + str(len(t_em)) + \"\\n\")\n",
    "print(str(sum(em_arrivals)) + \" electrons were excited \\n\")\n",
    "print(str(sum(pl_arrivals)) + \" plasmons were excited \\n\")\n",
    "print(str(sum(nv_arrivals)) + \" NV centers were excited \\n\")\n",
    "print(str(sum(tofe)) + ' radiation events were detected')"
   ]
  },
  {
   "cell_type": "code",
   "execution_count": 238,
   "metadata": {
    "collapsed": false
   },
   "outputs": [
    {
     "data": {
      "image/png": "[encoded data removed]",
      "text/plain": [
       "<matplotlib.figure.Figure at 0x10960c198>"
      ]
     },
     "metadata": {},
     "output_type": "display_data"
    },
    {
     "data": {
      "image/png": "[encoded data removed]",
      "text/plain": [
       "<matplotlib.figure.Figure at 0x10966d2b0>"
      ]
     },
     "metadata": {},
     "output_type": "display_data"
    },
    {
     "data": {
      "image/png": "[encoded data removed]",
      "text/plain": [
       "<matplotlib.figure.Figure at 0x10abaa978>"
      ]
     },
     "metadata": {},
     "output_type": "display_data"
    }
   ],
   "source": [
    "tau_max = int(len(tofe)/4)\n",
    "data0 = tofe[tau_max:3 * tau_max]\n",
    "mu_2 = np.mean(data0)**2\n",
    "def data(delay):\n",
    "    \"\"\"\n",
    "    Time series day with integer delay\n",
    "    \"\"\"\n",
    "    return tofe[0 + delay: 2 * tau_max + delay]\n",
    "\n",
    "corr_data = [0] * 2 * tau_max\n",
    "for i in range(2 * tau_max):\n",
    "    di = data(i)\n",
    "    corr_data[i] = sum(data0[j] * di[j] for j in range(2 * tau_max))/(2 * tau_max * np.mean(data0) * np.mean(di))\n",
    "\n",
    "plt.plot(corr_data)\n",
    "plt.show()\n",
    "\n",
    "\n",
    "plt.plot(corr_data[tau_max-20:tau_max+20], '.') #zoom into zero delay signal window\n",
    "plt.show()\n",
    "\n",
    "corr_data.pop(tau_max)\n",
    "plt.plot(corr_data, '.')\n",
    "plt.show()\n"
   ]
  },
  {
   "cell_type": "code",
   "execution_count": 229,
   "metadata": {
    "collapsed": false
   },
   "outputs": [
    {
     "data": {
      "image/png": "[encoded data removed]",
      "text/plain": [
       "<matplotlib.figure.Figure at 0x10a1377b8>"
      ]
     },
     "metadata": {},
     "output_type": "display_data"
    }
   ],
   "source": [
    "len(t_em[0:2 * tau_max]), len(data(0))\n",
    "\n",
    "\n",
    "plt.figure(figsize=(20,5))\n",
    "for i in [0,25,50,75]:\n",
    "    plt.plot(t_em[0:2 * tau_max + 0], data(i),'.', label = str(i))\n",
    "\n",
    "plt.legend()\n",
    "plt.show()"
   ]
  },
  {
   "cell_type": "code",
   "execution_count": 244,
   "metadata": {
    "collapsed": false
   },
   "outputs": [
    {
     "data": {
      "text/plain": [
       "[3.9503950395039498,\n",
       " 9.63096309630963,\n",
       " 9.7409740974097403,\n",
       " 10.18101810181018,\n",
       " 11.141114111411142,\n",
       " 11.651165116511649,\n",
       " 14.85148514851485,\n",
       " 16.421642164216422,\n",
       " 16.801680168016802,\n",
       " 16.801680168016802,\n",
       " 22.842284228422841,\n",
       " 23.262326232623259,\n",
       " 23.682368236823681,\n",
       " 24.772477247724769,\n",
       " 25.502550255025501,\n",
       " 25.752575257525752,\n",
       " 25.952595259525953,\n",
       " 26.282628262826279,\n",
       " 27.13271327132713,\n",
       " 27.332733273327332,\n",
       " 27.352735273527351,\n",
       " 28.64286428642864,\n",
       " 29.692969296929693,\n",
       " 30.493049304930491,\n",
       " 31.11311131113111,\n",
       " 32.133213321332136,\n",
       " 33.013301330133011,\n",
       " 33.113311331133112,\n",
       " 34.313431343134312,\n",
       " 35.633563356335628,\n",
       " 35.713571357135713,\n",
       " 36.103610361036097,\n",
       " 36.323632363236321,\n",
       " 36.333633363336332,\n",
       " 36.883688368836879,\n",
       " 36.923692369236917,\n",
       " 37.03370337033703,\n",
       " 37.08370837083708,\n",
       " 37.383738373837382,\n",
       " 39.91399139913991,\n",
       " 39.993999399939987,\n",
       " 40.63406340634063,\n",
       " 40.744074407440742,\n",
       " 41.084108410841083,\n",
       " 41.454145414541458,\n",
       " 41.814181418141807,\n",
       " 42.344234423442337,\n",
       " 43.074307430743076,\n",
       " 43.244324432443236,\n",
       " 43.244324432443236,\n",
       " 44.914491449144911,\n",
       " 45.114511451145113,\n",
       " 47.044704470447044,\n",
       " 47.094709470947095,\n",
       " 47.534753475347536,\n",
       " 47.534753475347536,\n",
       " 47.594759475947598,\n",
       " 47.754775477547753,\n",
       " 48.484848484848484,\n",
       " 48.924892489248926,\n",
       " 50.755075507550757,\n",
       " 50.755075507550757,\n",
       " 52.335233523352336,\n",
       " 52.67526752675267,\n",
       " 52.795279527952793,\n",
       " 53.84538453845385,\n",
       " 54.965496549654965,\n",
       " 54.995499549954992,\n",
       " 55.305530553055306,\n",
       " 56.925692569256917,\n",
       " 57.775777577757772,\n",
       " 58.005800580058008,\n",
       " 58.315831583158314,\n",
       " 58.655865586558647,\n",
       " 58.745874587458736,\n",
       " 58.785878587858782,\n",
       " 59.405940594059402,\n",
       " 59.525952595259525,\n",
       " 60.316031603160312,\n",
       " 60.336033603360328,\n",
       " 60.656065606560652,\n",
       " 60.776077607760776,\n",
       " 62.566256625662568,\n",
       " 62.896289628962897,\n",
       " 63.146314631463142,\n",
       " 64.576457645764563,\n",
       " 64.666466646664659,\n",
       " 65.946594659465944,\n",
       " 66.776677667766776,\n",
       " 67.746774677467741,\n",
       " 67.796779677967791,\n",
       " 67.846784678467841,\n",
       " 67.856785678567846,\n",
       " 72.107210721072093,\n",
       " 72.457245724572445,\n",
       " 72.557255725572546,\n",
       " 72.587258725872587,\n",
       " 72.957295729572948,\n",
       " 73.577357735773575,\n",
       " 73.607360736073602,\n",
       " 75.677567756775673,\n",
       " 75.727572757275723,\n",
       " 76.987698769876985,\n",
       " 77.167716771677163,\n",
       " 78.677867786778677,\n",
       " 79.867986798679866,\n",
       " 79.897989798979893,\n",
       " 80.35803580358035,\n",
       " 80.758075807580752,\n",
       " 80.768076807680771,\n",
       " 81.758175817581758,\n",
       " 82.028202820282019,\n",
       " 83.50835083508349,\n",
       " 84.268426842684264,\n",
       " 84.308430843084295,\n",
       " 84.688468846884675,\n",
       " 84.978497849784958,\n",
       " 87.438743874387441,\n",
       " 87.778777877787775,\n",
       " 88.168816881688159,\n",
       " 88.778877887788767,\n",
       " 90.339033903390344,\n",
       " 91.179117911791167,\n",
       " 91.799179917991793,\n",
       " 91.909190919091913,\n",
       " 92.329232923292338,\n",
       " 92.729272927292712,\n",
       " 92.749274927492735,\n",
       " 93.049304930493037,\n",
       " 94.699469946994682,\n",
       " 95.029502950295026,\n",
       " 95.169516951695172,\n",
       " 95.319531953195309,\n",
       " 95.439543954395432,\n",
       " 95.609560956095592,\n",
       " 95.99959995999599,\n",
       " 96.109610961096095,\n",
       " 97.809780978097805,\n",
       " 98.149814981498153,\n",
       " 98.359835983598359,\n",
       " 98.739873987398738,\n",
       " 99.119911991199118,\n",
       " 99.469946994699455,\n",
       " 99.819981998199822]"
      ]
     },
     "execution_count": 244,
     "metadata": {},
     "output_type": "execute_result"
    }
   ],
   "source": [
    "rad_times_ns"
   ]
  },
  {
   "cell_type": "code",
   "execution_count": 249,
   "metadata": {
    "collapsed": false
   },
   "outputs": [
    {
     "data": {
      "image/png": "[encoded data removed]",
      "text/plain": [
       "<matplotlib.figure.Figure at 0x10a3d41d0>"
      ]
     },
     "metadata": {},
     "output_type": "display_data"
    },
    {
     "data": {
      "image/png": "[encoded data removed]",
      "text/plain": [
       "<matplotlib.figure.Figure at 0x10561f780>"
      ]
     },
     "metadata": {},
     "output_type": "display_data"
    }
   ],
   "source": [
    "# Delay function in the sytle of kociak. \n",
    "# How is this really related to the autocorrelation function\n",
    "# 256 ps bin-sizes\n",
    "\n",
    "\n",
    "delaytimes = [rad_times_ns[i+1] - rad_times_ns[i] for i in range(len(rad_times_ns)-1)]\n",
    "\n",
    "plt.hist(delaytimes, bins=20)\n",
    "plt.show()"
   ]
  },
  {
   "cell_type": "markdown",
   "metadata": {},
   "source": [
    "We now estimate the g2 correlation function by playing a little trick with the way that the time series emission data is interpreted. Namely, we go through the radiation events selecting a single reference event, let us say it is the $i$th event.\n",
    "We imagine that this photon was detected by the first detector (click!) at time $t_i$. \n",
    "We now count the 'binned coincidences' by tagging other radiative emissions within a time window ($2 \\tau_{MAX}$) centered about $t_i$, that is, $\\tau^{(i)}_g = \\left[ t_0 - \\tau_{MAX} , \\tau_0 +  \\tau_{MAX} \\right]$.\n",
    "\n",
    "\n"
   ]
  },
  {
   "cell_type": "code",
   "execution_count": 253,
   "metadata": {
    "collapsed": false
   },
   "outputs": [
    {
     "data": {
      "text/plain": [
       "9000.0"
      ]
     },
     "execution_count": 253,
     "metadata": {},
     "output_type": "execute_result"
    }
   ],
   "source": [
    "TTM = 1e3     # 2 * \\tau_MAX\n",
    "\n",
    "for ti in radtimes:\n",
    "    if ti > TTM & ti < max(t_em)- TTM: # make sure TTM time gap exists to left and right of t_i\n",
    "        \n"
   ]
  },
  {
   "cell_type": "code",
   "execution_count": 251,
   "metadata": {
    "collapsed": false
   },
   "outputs": [
    {
     "data": {
      "text/plain": [
       "[395.03950395039499,\n",
       " 963.09630963096299,\n",
       " 974.09740974097406,\n",
       " 1018.101810181018,\n",
       " 1114.1114111411141,\n",
       " 1165.116511651165,\n",
       " 1485.1485148514851,\n",
       " 1642.1642164216421,\n",
       " 1680.1680168016801,\n",
       " 1680.1680168016801,\n",
       " 2284.2284228422841,\n",
       " 2326.2326232623259,\n",
       " 2368.2368236823681,\n",
       " 2477.2477247724769,\n",
       " 2550.2550255025499,\n",
       " 2575.257525752575,\n",
       " 2595.2595259525951,\n",
       " 2628.2628262826279,\n",
       " 2713.2713271327129,\n",
       " 2733.2733273327331,\n",
       " 2735.2735273527351,\n",
       " 2864.2864286428639,\n",
       " 2969.2969296929691,\n",
       " 3049.3049304930491,\n",
       " 3111.3111311131111,\n",
       " 3213.3213321332132,\n",
       " 3301.3301330133008,\n",
       " 3311.3311331133109,\n",
       " 3431.3431343134312,\n",
       " 3563.356335633563,\n",
       " 3571.3571357135711,\n",
       " 3610.3610361036099,\n",
       " 3632.363236323632,\n",
       " 3633.363336333633,\n",
       " 3688.3688368836879,\n",
       " 3692.3692369236919,\n",
       " 3703.370337033703,\n",
       " 3708.370837083708,\n",
       " 3738.3738373837382,\n",
       " 3991.3991399139909,\n",
       " 3999.3999399939989,\n",
       " 4063.4063406340629,\n",
       " 4074.4074407440739,\n",
       " 4108.4108410841081,\n",
       " 4145.4145414541454,\n",
       " 4181.4181418141807,\n",
       " 4234.423442344234,\n",
       " 4307.4307430743074,\n",
       " 4324.4324432443236,\n",
       " 4324.4324432443236,\n",
       " 4491.4491449144907,\n",
       " 4511.4511451145108,\n",
       " 4704.4704470447041,\n",
       " 4709.4709470947091,\n",
       " 4753.4753475347534,\n",
       " 4753.4753475347534,\n",
       " 4759.4759475947594,\n",
       " 4775.4775477547755,\n",
       " 4848.484848484848,\n",
       " 4892.4892489248923,\n",
       " 5075.5075507550755,\n",
       " 5075.5075507550755,\n",
       " 5233.5233523352335,\n",
       " 5267.5267526752668,\n",
       " 5279.5279527952789,\n",
       " 5384.5384538453845,\n",
       " 5496.5496549654963,\n",
       " 5499.5499549954993,\n",
       " 5530.5530553055305,\n",
       " 5692.5692569256917,\n",
       " 5777.5777577757772,\n",
       " 5800.5800580058003,\n",
       " 5831.5831583158315,\n",
       " 5865.5865586558648,\n",
       " 5874.5874587458738,\n",
       " 5878.5878587858779,\n",
       " 5940.5940594059402,\n",
       " 5952.5952595259523,\n",
       " 6031.6031603160309,\n",
       " 6033.6033603360329,\n",
       " 6065.6065606560651,\n",
       " 6077.6077607760772,\n",
       " 6256.6256625662563,\n",
       " 6289.6289628962895,\n",
       " 6314.6314631463138,\n",
       " 6457.6457645764567,\n",
       " 6466.6466646664658,\n",
       " 6594.6594659465945,\n",
       " 6677.6677667766771,\n",
       " 6774.6774677467738,\n",
       " 6779.6779677967788,\n",
       " 6784.6784678467839,\n",
       " 6785.6785678567849,\n",
       " 7210.7210721072097,\n",
       " 7245.7245724572449,\n",
       " 7255.725572557255,\n",
       " 7258.725872587258,\n",
       " 7295.7295729572952,\n",
       " 7357.7357735773576,\n",
       " 7360.7360736073597,\n",
       " 7567.756775677567,\n",
       " 7572.7572757275721,\n",
       " 7698.7698769876979,\n",
       " 7716.771677167716,\n",
       " 7867.786778677867,\n",
       " 7986.7986798679858,\n",
       " 7989.7989798979888,\n",
       " 8035.8035803580351,\n",
       " 8075.8075807580753,\n",
       " 8076.8076807680764,\n",
       " 8175.817581758175,\n",
       " 8202.8202820282022,\n",
       " 8350.8350835083493,\n",
       " 8426.8426842684257,\n",
       " 8430.8430843084298,\n",
       " 8468.846884688468,\n",
       " 8497.8497849784962,\n",
       " 8743.8743874387437,\n",
       " 8777.8777877787779,\n",
       " 8816.8816881688163,\n",
       " 8877.8877887788767,\n",
       " 9033.9033903390336,\n",
       " 9117.9117911791163,\n",
       " 9179.9179917991787,\n",
       " 9190.9190919091907,\n",
       " 9232.9232923292329,\n",
       " 9272.9272927292714,\n",
       " 9274.9274927492734,\n",
       " 9304.9304930493035,\n",
       " 9469.9469946994686,\n",
       " 9502.9502950295027,\n",
       " 9516.9516951695168,\n",
       " 9531.953195319531,\n",
       " 9543.9543954395431,\n",
       " 9560.9560956095593,\n",
       " 9599.9599959995994,\n",
       " 9610.9610961096096,\n",
       " 9780.9780978097806,\n",
       " 9814.9814981498148,\n",
       " 9835.983598359835,\n",
       " 9873.9873987398732,\n",
       " 9911.9911991199115,\n",
       " 9946.9946994699458,\n",
       " 9981.9981998199819]"
      ]
     },
     "execution_count": 251,
     "metadata": {},
     "output_type": "execute_result"
    }
   ],
   "source": [
    "rad_times"
   ]
  },
  {
   "cell_type": "code",
   "execution_count": 144,
   "metadata": {
    "collapsed": false
   },
   "outputs": [
    {
     "data": {
      "image/png": "[encoded data removed]",
      "text/plain": [
       "<matplotlib.figure.Figure at 0x10a7f1c50>"
      ]
     },
     "metadata": {},
     "output_type": "display_data"
    },
    {
     "name": "stdout",
     "output_type": "stream",
     "text": [
      "the number of timesteps during which an emission did NOT take place is 9942\n"
     ]
    }
   ],
   "source": [
    "plt.plot(tofe)\n",
    "plt.show()\n",
    "\n",
    "not_emissions = 0\n",
    "for i,t in enumerate(tofe):\n",
    "    if t == 0:\n",
    "        not_emissions +=1\n",
    "print('the number of timesteps during which an emission did NOT take place is ' + str(not_emissions))"
   ]
  },
  {
   "cell_type": "markdown",
   "metadata": {},
   "source": [
    "Find proper radiation probability given a mean lifetime/halflife for the NV relaxation events"
   ]
  },
  {
   "cell_type": "code",
   "execution_count": 131,
   "metadata": {
    "collapsed": false
   },
   "outputs": [
    {
     "data": {
      "image/png": "[encoded data removed]",
      "text/plain": [
       "<matplotlib.figure.Figure at 0x10af26128>"
      ]
     },
     "metadata": {},
     "output_type": "display_data"
    },
    {
     "data": {
      "image/png": "[encoded data removed]",
      "text/plain": [
       "<matplotlib.figure.Figure at 0x1095ff4a8>"
      ]
     },
     "metadata": {},
     "output_type": "display_data"
    }
   ],
   "source": [
    "em_times = [0] * 1000\n",
    "counter = [0] * len(t_em)\n",
    "counter[0] = len(em_times)\n",
    "\n",
    "for i,t in enumerate(t_em):\n",
    "    \n",
    "    if i > 0:\n",
    "        counter[i] = counter[i-1]\n",
    "    \n",
    "    emissionss = 0\n",
    "    for j in range(len(em_times)):\n",
    "        if em_times[j]==0 and random.random() < p_rad:\n",
    "            em_times[j] = t * 0.01\n",
    "            emissionss += 1\n",
    "     \n",
    "    counter[i] = counter[i] - emissionss\n",
    "\n",
    "nzn_times = [e for e in em_times if e != 0.0]\n",
    "plt.hist(nzn_times, normed=True, bins=10)\n",
    "plt.show()\n",
    "\n",
    "decay_t = [len(em_times) * (np.exp(-t/tau_NV)) for t in t_em]\n",
    "plt.plot(t_em * 0.01, counter, label = 'simulation')\n",
    "plt.plot(t_em * 0.01, decay_t, label = 'expected decay')\n",
    "plt.legend()\n",
    "plt.show()\n"
   ]
  },
  {
   "cell_type": "code",
   "execution_count": null,
   "metadata": {
    "collapsed": true
   },
   "outputs": [],
   "source": []
  }
 ],
 "metadata": {
  "kernelspec": {
   "display_name": "Python 3",
   "language": "python",
   "name": "python3"
  },
  "language_info": {
   "codemirror_mode": {
    "name": "ipython",
    "version": 3
   },
   "file_extension": ".py",
   "mimetype": "text/x-python",
   "name": "python",
   "nbconvert_exporter": "python",
   "pygments_lexer": "ipython3",
   "version": "3.5.2"
  }
 },
 "nbformat": 4,
 "nbformat_minor": 1
}
