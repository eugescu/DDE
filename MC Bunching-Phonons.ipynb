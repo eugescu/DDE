{
 "cells": [
  {
   "cell_type": "code",
   "execution_count": 3,
   "metadata": {
    "collapsed": true
   },
   "outputs": [],
   "source": [
    "import itertools\n",
    "import numpy as np\n",
    "import math\n",
    "from matplotlib import pyplot as plt\n",
    "import random"
   ]
  },
  {
   "cell_type": "markdown",
   "metadata": {},
   "source": [
    "# Physical constants for experiment"
   ]
  },
  {
   "cell_type": "code",
   "execution_count": 4,
   "metadata": {},
   "outputs": [
    {
     "name": "stdout",
     "output_type": "stream",
     "text": [
      "(non)relativistic electron velocity(/c) is 0.446593756539 (0.485071250073)\n",
      "energy lost to plasmon around 0.27784584980237126 eV\n",
      "current for 1e- per 1 nanosecond is 0.1602 nA\n"
     ]
    }
   ],
   "source": [
    "ev_c2 = 1.783e-36   # eV/c^2 in units of kg\n",
    "me_kg   = 9.1e-31   # mass of e- [kg]\n",
    "me = me_kg/ev_c2    # mass of e- [eV/c^2]\n",
    "c = 3e8             # speed of light [m/s]\n",
    "\n",
    "v = np.sqrt(1-(510/(60+510))**2) # speed of e- w.r.t c i.e., gamma factor\n",
    "print('(non)relativistic electron velocity(/c) is ' +str(v) + ' (' + str(np.sqrt(2*60/510)) + ')')      # v vs. non-relativistic calculation for velocity\n",
    "\n",
    "h = 4.135e-15       # plank's constant [eV]  (not h-bar, just h)\n",
    "l_NV = 575          # nv wavelength [nm]\n",
    "f_NV = c*1e9/l_NV   # frequency (conversion nm <--> m)\n",
    "E_NV = h * f_NV     # energy [eV]\n",
    "E_660 = h * (c*1e9/660)\n",
    "E_610 = h * (c*1e9/610)\n",
    "DE = E_NV - E_660   # energy lost to plasmon [eV]\n",
    "print('energy lost to plasmon around ' + str(DE) + ' eV')\n",
    "\n",
    "\n",
    "q = 1.602e-19       # electron charge [C]\n",
    "I0 = q/1e-9 * 1e9   # current for 1 e- per ns [nA]\n",
    "print('current for 1e- per 1 nanosecond is ' + str(I0) + ' nA')\n"
   ]
  },
  {
   "cell_type": "markdown",
   "metadata": {},
   "source": [
    "# Monte Carlo Simulation Cathodoluminescence \n",
    "Following Meuret, Kociak, et. al., PRL & supplemental material. \n",
    "\n",
    "\n",
    "We outline the experimental and some material parameters taken from the literature which are allow our caculations to be realistic with respect to materials properties. \n",
    "\n",
    "#### Energy-scales\n",
    "The electrons are accelerated with $60 keV$ potential. At this energy scale the electrons move at a veloctity $v = .44 * c$ \n",
    "\n",
    "1. Plasmon modes should be $\\mathcal{O}(10 eV)$ excitations. This correlates well with the big EELS peak around 40 eV in Kociak's supplemental material. \n",
    "2. Electron-hole exicton pairs are of $E_{eh} = 5 eV$ as per the band-gap in diamond\n",
    "3. NV$^0$ centers with $2.156 eV$ (575nm) energy gap between a doublet $^2E$ states and $^2A$ states. The NV gap isembedded within the semiconductor band-gap. \n",
    "4. There exist phonon bands with much lower energies than all the modes listed above. Photons exhibiting maximal bunching lie between 610-665 nm and this corresponds to a loss of $\\sim .25eV$\n",
    "\n"
   ]
  },
  {
   "cell_type": "markdown",
   "metadata": {},
   "source": [
    "#### Timescales\n",
    "\n",
    "The e-beam current depends on the extraction voltage which removes electrons.In the Kociak paper the currents range between $1pA$-$100pA$ while the ORNL experiment uses currents betwee $100 pA$ to $10 nA$. \n",
    "\n",
    "0. Bunching bandwidth of $\\sim 100ns$ for 610 nm and 665 nm filtered data.\n",
    "1. NV decay timescales seems to be on the order of $\\mathcal{O}(10ns)$. \n",
    "\n",
    "\n",
    "#### Other physical constraints \n",
    "\n",
    "0. Following Kociak in the supplemental material section 6 the average plasmon creation number should be taken around ~2 \n",
    "1. The interaction probability is defined as $P_{INT} \\equiv 1 - \\exp \\left\\{ - l_d \\sigma \\rho \\right\\}$]\n",
    "   * The NV density is ~ 1200 NV color centers / nanocrystal. Since each nanocrystal is ~ $100 nm^3$ that comes to a rough density of $\\rho = 1.2 *10^{-3} \\frac{NV}{nm^3}$ or $\\approx 1 \\frac{NV}{(10nm)^3}$\n",
    "\n",
    "\n",
    "## Time series simulation \n",
    "The time series simulation is performed in two different ways below \n",
    "\n",
    "1. We discretizing time into timesteps dt and at each either select an electron arrival or do not. \n",
    "   * Likewise, for NV's which are excited, they are allowed to probablistically decay at each timestep.. \n",
    "    \n",
    "B. Following Kociak again, we stochastically pick electron arrivals times. \n",
    "   * These arrival time shall be the excitation times for the (possibly many) NV's which are stimulated within a very short (ps) time window. \n",
    "   * We also stochastically choose NV radiation times \n"
   ]
  },
  {
   "cell_type": "markdown",
   "metadata": {
    "collapsed": true
   },
   "source": [
    "# Poissonian time series simulation\n",
    "\n",
    "We simulate the experimenal data using a simple monte carlo simulation. \n",
    "In our numerics we build a probability function $t_{em}$ as matrix consiting of radiation times.\n",
    "The radiation times are taken to depend on the electron beam current and on the nano-crystal-NV physics. \n",
    "\n",
    "$$ t^{ij}_{em} $$\n",
    "\n",
    "1. Given a constant current, the average arrival time $\\Delta t$ between electrons in the e-beam is $\\Delta t = I/q_e$ where $I$ is the beam current and $q_e = 1.602*10^{-19}C$ is the electron charge. Generating the inter-electron times $\\Delta i$'s from a Poissonian distribution is performed by the emn_arrivals function. Define the global arrival times recursively $t_n = \\Delta_n + t_{n-1}$ to consider the set $\\{ t_1, ... t_N\\}$. $$ $$ The $\\Delta i$'s are sampled as follows. Conider the poisson probabilty distibution $P(k,\\lambda) = {\\displaystyle {\\frac {\\lambda ^{k}e^{-\\lambda }}{k!}}}$. The probablity of for the $k=0$ event for $m$ consecutive samples is $P(0,\\lambda)^m = e^{-m \\lambda}$. This exponential decay distribution and electron times are thus simulated by taking $\\Delta_i = - t_m \\ln(1-r_i)$ where each $r_i$ is a random number evenly distributed along the interval $\\left[0,1\\right]$. This collection of $\\{ \\Delta_i \\}$ and the interaction times ($\\{ t_1, ... t_N\\}$) constitute the first poissonian simulated data.\n",
    "\n",
    "\n",
    "2. At each $t_i$ the electron activates a number of microscipic modes  associated with the Nano-diamond samples. Since we count the emissions originating from the NV color centers, we construct an simple effective model to treat the internal dynamics. Due to the broad nature of the electron beam exictations, many modes (plasmons, phonons, e-h excitions, and NVs) are excited at each electron arrival time $t_i$. A simple model considering the activation of NV's through plasmonic, and exiton pathways was considered earlier \\cite{Meuret}. \n",
    "\n",
    "\n",
    " At each of these times  are excited. Eventually the excited NV's radiate at some later time. The radiation times are output by the radiation times function\n",
    " generates a series of times at from which NV centers may emit\n",
    "\n",
    "\n",
    "3. Finally we post-proccess the radiation times into a histogram style g2 correlation function"
   ]
  },
  {
   "cell_type": "code",
   "execution_count": null,
   "metadata": {
    "collapsed": true
   },
   "outputs": [],
   "source": [
    "def em_arrrivals(mean_time, number = 1000):\n",
    "    \"\"\"\n",
    "    Simulate the arrival times of e- particles\n",
    "    according to a poission distribution given \n",
    "    \n",
    "    Parameters\n",
    "    ----------\n",
    "    mean_time: the poissonian mean time (i.e. lambda parameter)\n",
    "    number: the number of times to simulate\n",
    "    \n",
    "    Retruns\n",
    "    -------\n",
    "    delta_ts: delays between electrons\n",
    "    times:    times of electron arrivals\n",
    "    \"\"\"\n",
    "    delta_ts = [- mean_time *  np.log(1-random.random()) for i in range(number)]\n",
    "    times = [0] * number\n",
    "\n",
    "    for i,t in enumerate(delta_ts):\n",
    "        if i == 0:\n",
    "            times[i] = delta_ts[i]\n",
    "        else:\n",
    "            times[i] = times[i-1] + delta_ts[i]\n",
    "    return delta_ts, times\n",
    "\n",
    "def radiation_times(times, N_NV, t_r):\n",
    "    \"\"\"\n",
    "    Simulate the radaition times of an unbounded collection of NV's\n",
    "    \n",
    "    Parameters\n",
    "    ----------\n",
    "    times: discretized times at which NV's may be excited\n",
    "    N_NV: average number of NV's excited per e-\n",
    "    t_r : mean NV relaxation/radiation timescale\n",
    "    \n",
    "    Returns\n",
    "    -------\n",
    "    rad_times: sorted list of times at which a radiation event occurs\n",
    "    \n",
    "    \"\"\"\n",
    "    \n",
    "#   for k in range(number):                         # count number of NV excitations accompanying each electron    \n",
    "#         npl = 5                                   # number of plasmon modes populated according to p_pl_cdf\n",
    "#         for i in range(npl):\n",
    "#             for j in range(neh):\n",
    "#                 if random.random() < p_INT:\n",
    "#                     nv_arrivals[k] += 1 \n",
    "                \n",
    "    nv_arrivals = [0] * len(times)    \n",
    "    nv_arrivals = np.random.poisson(N_NV, len(times)) \n",
    "    \n",
    "    rad_times = []                                 # simulate the radiation times series data\n",
    "    for k in range(len(times)):\n",
    "        for j in range(nv_arrivals[k]):\n",
    "            rad_times.append(times[k] - t_r * np.log(1-random.random()))\n",
    "\n",
    "    rad_times.sort()\n",
    "    \n",
    "    return  rad_times\n",
    "\n",
    "\n",
    "\n",
    "def delays(rad_times, tau_max):\n",
    "    \"\"\"\n",
    "    Calculate delays 'between each photon and all the others' \n",
    "    within a time window of width tau_max. This way we may\n",
    "    reconstruct the g2 correlation function\n",
    "    in the \"histogram mode\" used to experimentally determine $g^{(2)}$. \n",
    "    The histogramming corresponds to the convolution of \n",
    "    two functions in some discrete time specificed by the bin width\n",
    "\n",
    "    Parameters\n",
    "    ----------\n",
    "    rad_times: a list of ordered radiation times \n",
    "    tau_max: time window, e.g. of 100 ns, for duration of coincedence counting\n",
    "    \n",
    "    Returns:\n",
    "    --------\n",
    "    delay times: w/o self delay at \\tau = 0.0\n",
    "    \"\"\"\n",
    "    t_s = [t for t in rad_times if t > min(rad_times) + tau_max and t < max(rad_times) - tau_max ]\n",
    "\n",
    "    delay_times = []\n",
    "    for t1 in t_s:\n",
    "        \n",
    "        i = rad_times.index(t1)\n",
    "        j = i + 1\n",
    "        k = i - 1\n",
    "        \n",
    "        while abs(rad_times[j] - t1) < tau_max:\n",
    "            delay_times.append(rad_times[j]-t1)\n",
    "            j += 1\n",
    "\n",
    "        while abs(rad_times[k] - t1) < tau_max:\n",
    "            delay_times.append(rad_times[k]-t1)\n",
    "            k -= 1\n",
    "            \n",
    "    return  delay_times\n",
    "\n",
    "\n",
    "def binning():\n",
    "    \"\"\"\n",
    "    Bins the relative delays as per 'histogram mode'\n",
    "    \n",
    "    Parameters:\n",
    "    -----------\n",
    "    delays: Array of delay times -- output from delay times function\n",
    "    \n",
    "    Returns:\n",
    "    --------\n",
    "    bins:   Array of bin centers\n",
    "    hists:  Array of histgram counts\n",
    "    \"\"\"\n",
    "    "
   ]
  },
  {
   "cell_type": "markdown",
   "metadata": {},
   "source": [
    "### poissonian tiplet chain Monte Carlo calculations\n"
   ]
  },
  {
   "cell_type": "code",
   "execution_count": null,
   "metadata": {},
   "outputs": [
    {
     "data": {
      "image/png": "[encoded data removed]",
      "text/plain": [
       "<matplotlib.figure.Figure at 0x10baaf8d0>"
      ]
     },
     "metadata": {},
     "output_type": "display_data"
    },
    {
     "data": {
      "image/png": "[encoded data removed]",
      "text/plain": [
       "<matplotlib.figure.Figure at 0x10ab10048>"
      ]
     },
     "metadata": {},
     "output_type": "display_data"
    },
    {
     "data": {
      "image/png": "[encoded data removed]",
      "text/plain": [
       "<matplotlib.figure.Figure at 0x10bc0d8d0>"
      ]
     },
     "metadata": {},
     "output_type": "display_data"
    },
    {
     "name": "stdout",
     "output_type": "stream",
     "text": [
      "Number of NV emissions: \n",
      " 10023\n"
     ]
    },
    {
     "data": {
      "image/png": "[encoded data removed]",
      "text/plain": [
       "<matplotlib.figure.Figure at 0x10cff82b0>"
      ]
     },
     "metadata": {},
     "output_type": "display_data"
    },
    {
     "data": {
      "image/png": "[encoded data removed]",
      "text/plain": [
       "<matplotlib.figure.Figure at 0x10d4f9ba8>"
      ]
     },
     "metadata": {},
     "output_type": "display_data"
    }
   ],
   "source": [
    "# Physical scales #\n",
    "tm = 10           # electron mean arrival time [ns] -----    # Single mean \n",
    "N = int(1e3)      # number of electron events\n",
    "N_NV = 10         # ratio of NV's to e-'s \n",
    "t_r = 5           # NV radiation timescale [ns]    --------  # varying radiation time\n",
    "\n",
    "# histogram binning arguments \n",
    "tau_max = 25\n",
    "n_bins = 200\n",
    "\n",
    "# numpy poisson process in action\n",
    "plt.hist(np.random.poisson(0.5, 1000000),n_bins)\n",
    "plt.show()\n",
    "\n",
    "arrival_times = em_arrrivals(mean_time=tm , number=N)\n",
    "\n",
    "plt.hist(arrival_times[0], n_bins)\n",
    "plt.xlabel('$\\Delta t$')\n",
    "plt.ylabel('$\\Delta_i frenquency$')\n",
    "\n",
    "plt.show()\n",
    "plt.plot(arrival_times[1])\n",
    "plt.xlabel('$i $')\n",
    "plt.ylabel('$t_i $')\n",
    "plt.show()\n",
    "\n",
    "r_tms = radiation_times(arrival_times[1], N_NV, t_r)\n",
    "print('Number of NV emissions: \\n ' + str(len(r_tms)))\n",
    "plt.plot(r_tms)\n",
    "plt.xlabel('$i,j $')\n",
    "plt.ylabel('$t_{i,j} $')\n",
    "plt.show()\n",
    "\n",
    "\n",
    "\n",
    "plt.hist(delays(r_tms, tau_max), n_bins)\n",
    "plt.show()"
   ]
  },
  {
   "cell_type": "code",
   "execution_count": null,
   "metadata": {},
   "outputs": [
    {
     "name": "stdout",
     "output_type": "stream",
     "text": [
      "1000: number of samples taken\n"
     ]
    }
   ],
   "source": [
    "Ns  = [1e3, 5e3, 1e4, 5e4, 1e5]\n",
    "Ns = [int(n) for n in Ns]\n",
    "f, ax = plt.subplots(1, sharex=True)\n",
    "for N in Ns:\n",
    "    at = em_arrrivals(tm, N)[1] # arrival times\n",
    "    rt = radiation_times(at, N_NV, t_r)\n",
    "    d = delays(rt, tau_max)\n",
    "\n",
    "    # look through delays at different currents \n",
    "\n",
    "    hist, bin_edges = np.histogram(d, bins=n_bins)           # Generate the histogram data directly\n",
    "    bin_centers = (bin_edges[:-1] + bin_edges[1:]) / 2.      # Get the centres rather than the edges\n",
    "    hists = hist/((np.mean(hist[int(3*n_bins/4):]) +\n",
    "                  np.mean(hist[:int(1*n_bins/4)]))/2)        # Normalize histogram counts\n",
    "    bins = bin_centers                                       # Plot with [ns] time units\n",
    "    \n",
    "    print(str(N) + ': number of samples taken')\n",
    "#     plt.step(bins, hists, label = str(tm))\n",
    "    plt.plot(bins, hists, label = str(N))\n",
    "    \n",
    "    \n",
    "plt.xlabel('$\\\\tau (ns)$')\n",
    "plt.ylabel('$g^{(2)}(\\\\tau)$')\n",
    "plt.legend(['$t_m$ =' + str(m) for m in mean_times])\n",
    "plt.show()"
   ]
  },
  {
   "cell_type": "markdown",
   "metadata": {},
   "source": [
    "### Current dependence"
   ]
  },
  {
   "cell_type": "code",
   "execution_count": 208,
   "metadata": {},
   "outputs": [
    {
     "name": "stdout",
     "output_type": "stream",
     "text": [
      "1.0ns mean arrival time\n",
      "5.0ns mean arrival time\n",
      "10.0ns mean arrival time\n",
      "50.0ns mean arrival time\n",
      "100.0ns mean arrival time\n"
     ]
    },
    {
     "data": {
      "image/png": "[encoded data removed]",
      "text/plain": [
       "<matplotlib.figure.Figure at 0x10b056828>"
      ]
     },
     "metadata": {},
     "output_type": "display_data"
    }
   ],
   "source": [
    "mean_times  = [1e0, 5e0, 1e1, 5e1, 1e2]\n",
    "\n",
    "f, ax = plt.subplots(1, sharex=True)\n",
    "for tm in mean_times:\n",
    "    at = em_arrrivals(mean_time= tm, number=N)[1] # arrival times\n",
    "    rt = radiation_times(at, N_NV, t_r)\n",
    "    d = delays(rt, tau_max)\n",
    "\n",
    "    # look through delays at different currents \n",
    "\n",
    "    hist, bin_edges = np.histogram(d, bins=n_bins)           # Generate the histogram data directly\n",
    "    bin_centers = (bin_edges[:-1] + bin_edges[1:]) / 2.      # Get the centres rather than the edges\n",
    "    hists = hist/((np.mean(hist[int(3*n_bins/4):]) +\n",
    "                  np.mean(hist[:int(1*n_bins/4)]))/2)        # Normalize histogram counts\n",
    "    bins = bin_centers                                       # Plot with [ns] time units\n",
    "    \n",
    "    print(str(tm) + 'ns mean arrival time')\n",
    "#     plt.step(bins, hists, label = str(tm))\n",
    "    plt.plot(bins, hists, label = str(tm))\n",
    "    \n",
    "    \n",
    "plt.xlabel('$\\\\tau (ns)$')\n",
    "plt.ylabel('$g^{(2)}(\\\\tau)$')\n",
    "plt.legend(['$t_m$ =' + str(m) for m in mean_times])\n",
    "plt.show()"
   ]
  },
  {
   "cell_type": "markdown",
   "metadata": {},
   "source": [
    "### NV factor dependence\n",
    "\n",
    "For a low NV/e- ratio $N_{NV} \\in (0.1,5)$ the $g^{(2)}$ is constant."
   ]
  },
  {
   "cell_type": "code",
   "execution_count": null,
   "metadata": {},
   "outputs": [],
   "source": [
    "N_NV_range = np.linspace(5,50,5)\n",
    "f, ax = plt.subplots(1, sharex=True)\n",
    "for N_NV in N_NV_range:\n",
    "    at = em_arrrivals(mean_time= tm, number=N)[1] # arrival times\n",
    "    rt = radiation_times(at, N_NV, t_r)\n",
    "    d = delays(rt, tau_max)\n",
    "\n",
    "    # look through delays at different currents \n",
    "\n",
    "    hist, bin_edges = np.histogram(d, bins=n_bins)           # Generate the histogram data directly\n",
    "    bin_centers = (bin_edges[:-1] + bin_edges[1:]) / 2.      # Get the centres rather than the edges\n",
    "    hists = hist/((np.mean(hist[int(3*n_bins/4):]) +\n",
    "                  np.mean(hist[:int(1*n_bins/4)]))/2)        # Normalize histogram counts\n",
    "    bins = bin_centers                                       # Plot with [ns] time units\n",
    "    print(str(N_NV) + ' is done')                            # simulation length increases with N_NV\n",
    "    plt.plot(bins, hists, label = '$N_{NV}$ = ' + str(N_NV))\n",
    "    \n",
    "plt.xlabel('$\\\\tau (ns)$')\n",
    "plt.ylabel('$g^{(2)}(\\\\tau)$')\n",
    "plt.legend()\n",
    "plt.show()"
   ]
  },
  {
   "cell_type": "markdown",
   "metadata": {},
   "source": [
    "### A simple model: radiation lifetimes and phonon scattering\n",
    "\n",
    "\n",
    "We explore the effect that the NV radiation rate has on the $g^{(2)}(\\tau)$ properties.\n",
    "In the calculation below we vary the NV emission rate. "
   ]
  },
  {
   "cell_type": "code",
   "execution_count": 214,
   "metadata": {},
   "outputs": [],
   "source": [
    "data = []\n",
    "trs = np.logspace(0.5,1.5, 5)                                # vary emission rates\n",
    "for t_r in trs:\n",
    "    at = em_arrrivals(tm, number=N)[1]                       # simulate electron arrival times\n",
    "    rt = radiation_times(at, N_NV, t_r)                      # simulate NV excitations\n",
    "    d = delays(rt, tau_max)                                  # simulate NV radiation\n",
    "\n",
    "    hist, bin_edges = np.histogram(d, bins=n_bins)           # Generate the histogram data directly\n",
    "    bin_centers = (bin_edges[:-1] + bin_edges[1:]) / 2.      # bin centred by delay time\n",
    "    hists = hist/((np.mean(hist[int(3*n_bins/4):]) +\n",
    "                  np.mean(hist[:int(1*n_bins/4)]))/2)        # Normalize histogram counts\n",
    "    bins = bin_centers                                       # Plot with [ns] time units\n",
    "    data.append((bins, hists))\n"
   ]
  },
  {
   "cell_type": "code",
   "execution_count": null,
   "metadata": {},
   "outputs": [],
   "source": [
    "# display results \n",
    "\n",
    "\n",
    "f, ax = plt.subplots(2, sharex=False)\n",
    "for i in range(5):\n",
    "    ax[0].plot(test_data[i][0], test_data[i][1], label='{0}'.format(int(trs[i])))  \n",
    "\n",
    "ax[1].plot(np.logspace(1.5,2.5, 5), [test_data[i][1][n_bins//2] for i in range(5)])\n",
    "ax[0].set_xlabel('$\\\\tau (ns)$')\n",
    "ax[0].set_ylabel('$g^{(2)}(\\\\tau)$')\n",
    "\n",
    "ax[1].set_xlabel('radiation timescales')\n",
    "ax[1].set_ylabel('g^{(2)}(0)')\n",
    "\n",
    "ax[0].legend() \n",
    "# ax[1].legend()\n",
    "plt.show()"
   ]
  },
  {
   "cell_type": "code",
   "execution_count": null,
   "metadata": {
    "collapsed": true
   },
   "outputs": [],
   "source": []
  }
 ],
 "metadata": {
  "kernelspec": {
   "display_name": "Python 3",
   "language": "python",
   "name": "python3"
  },
  "language_info": {
   "codemirror_mode": {
    "name": "ipython",
    "version": 3
   },
   "file_extension": ".py",
   "mimetype": "text/x-python",
   "name": "python",
   "nbconvert_exporter": "python",
   "pygments_lexer": "ipython3",
   "version": "3.6.1"
  }
 },
 "nbformat": 4,
 "nbformat_minor": 1
}
